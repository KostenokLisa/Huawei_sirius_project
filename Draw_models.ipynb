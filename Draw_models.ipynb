{
  "nbformat": 4,
  "nbformat_minor": 0,
  "metadata": {
    "colab": {
      "name": "Draw_models.ipynb",
      "provenance": []
    },
    "kernelspec": {
      "name": "python3",
      "display_name": "Python 3"
    },
    "accelerator": "GPU"
  },
  "cells": [
    {
      "cell_type": "code",
      "metadata": {
        "id": "NJBncsEtEJC-",
        "colab_type": "code",
        "colab": {
          "base_uri": "https://localhost:8080/",
          "height": 34
        },
        "outputId": "e006b028-970a-46bb-cac4-62fca62b1d3c"
      },
      "source": [
        "import os\n",
        "import sys\n",
        "import time\n",
        "import glob\n",
        "import numpy as np\n",
        "import torch\n",
        "import torch.nn as nn\n",
        "import torch.utils\n",
        "import torch.nn.functional as F\n",
        "import torchvision.datasets as dset\n",
        "import torch.backends.cudnn as cudnn\n",
        "import torchvision.transforms as transforms\n",
        "from torch.autograd import Variable\n",
        "from timeit import default_timer as timer\n",
        "from tqdm import tqdm_notebook\n",
        "from collections import defaultdict,Counter\n",
        "import pickle\n",
        "\n",
        "\n",
        "! pip install hiddenlayer\n",
        "import hiddenlayer as hl\n",
        "import hiddenlayer.transforms as ht\n",
        "from torch.autograd import Variable\n",
        "from pdb import set_trace\n",
        "\n",
        "import scipy.io"
      ],
      "execution_count": 2,
      "outputs": [
        {
          "output_type": "stream",
          "text": [
            "Requirement already satisfied: hiddenlayer in /usr/local/lib/python3.6/dist-packages (0.3)\n"
          ],
          "name": "stdout"
        }
      ]
    },
    {
      "cell_type": "code",
      "metadata": {
        "id": "b0GLUuBx10hr",
        "colab_type": "code",
        "colab": {
          "base_uri": "https://localhost:8080/",
          "height": 67
        },
        "outputId": "9f4f6e9f-eb95-4ef6-9d3c-4db49709c8a5"
      },
      "source": [
        "!pip install torchviz"
      ],
      "execution_count": 3,
      "outputs": [
        {
          "output_type": "stream",
          "text": [
            "Requirement already satisfied: torchviz in /usr/local/lib/python3.6/dist-packages (0.0.1)\n",
            "Requirement already satisfied: graphviz in /usr/local/lib/python3.6/dist-packages (from torchviz) (0.10.1)\n",
            "Requirement already satisfied: torch in /usr/local/lib/python3.6/dist-packages (from torchviz) (1.4.0+cu92)\n"
          ],
          "name": "stdout"
        }
      ]
    },
    {
      "cell_type": "code",
      "metadata": {
        "id": "6z7P-Wzi11hn",
        "colab_type": "code",
        "colab": {}
      },
      "source": [
        "from torchviz import make_dot, make_dot_from_trace"
      ],
      "execution_count": 4,
      "outputs": []
    },
    {
      "cell_type": "code",
      "metadata": {
        "id": "xWPig8k9Jejx",
        "colab_type": "code",
        "colab": {
          "base_uri": "https://localhost:8080/",
          "height": 34
        },
        "outputId": "51e38b31-7510-4808-da61-bd1b0696b677"
      },
      "source": [
        "!git clone https://github.com/Huawei-Sirius-Summer-2020/DPDBlocks.git"
      ],
      "execution_count": 6,
      "outputs": [
        {
          "output_type": "stream",
          "text": [
            "fatal: destination path 'DPDBlocks' already exists and is not an empty directory.\n"
          ],
          "name": "stdout"
        }
      ]
    },
    {
      "cell_type": "code",
      "metadata": {
        "id": "gTd0b5cTEZ6p",
        "colab_type": "code",
        "colab": {}
      },
      "source": [
        "from DPDBlocks.blocks import AFIR,ABS,Polynomial,Delay,Prod_cmp"
      ],
      "execution_count": 7,
      "outputs": []
    },
    {
      "cell_type": "code",
      "metadata": {
        "id": "eBuf1KLaK7RI",
        "colab_type": "code",
        "colab": {
          "base_uri": "https://localhost:8080/",
          "height": 34
        },
        "outputId": "27454f7b-1c10-403c-bb29-f140926e1545"
      },
      "source": [
        "!git clone https://github.com/Huawei-Sirius-Summer-2020/BlackBoxData.git"
      ],
      "execution_count": 8,
      "outputs": [
        {
          "output_type": "stream",
          "text": [
            "fatal: destination path 'BlackBoxData' already exists and is not an empty directory.\n"
          ],
          "name": "stdout"
        }
      ]
    },
    {
      "cell_type": "code",
      "metadata": {
        "id": "aX4fxaGILKb9",
        "colab_type": "code",
        "colab": {
          "base_uri": "https://localhost:8080/",
          "height": 34
        },
        "outputId": "c078f477-8a2f-4fd0-8927-ad982a91cab8"
      },
      "source": [
        "cd /content/BlackBoxData\n"
      ],
      "execution_count": 21,
      "outputs": [
        {
          "output_type": "stream",
          "text": [
            "/content/BlackBoxData\n"
          ],
          "name": "stdout"
        }
      ]
    },
    {
      "cell_type": "code",
      "metadata": {
        "id": "LGPZn8mrEefc",
        "colab_type": "code",
        "colab": {}
      },
      "source": [
        "import matplotlib.pyplot as plt\n",
        "\n",
        "import matplotlib.mlab as mlab\n",
        "import matplotlib.gridspec as gridspec"
      ],
      "execution_count": 9,
      "outputs": []
    },
    {
      "cell_type": "code",
      "metadata": {
        "id": "AdR4dl_hEiHP",
        "colab_type": "code",
        "colab": {}
      },
      "source": [
        "def NMSE(X, E):\n",
        "    return 10*torch.log10((E.norm(dim=1)**2).sum()/(X.norm(dim=1)**2).sum())"
      ],
      "execution_count": 10,
      "outputs": []
    },
    {
      "cell_type": "code",
      "metadata": {
        "id": "7FAmPPSxEmNH",
        "colab_type": "code",
        "colab": {}
      },
      "source": [
        "def update_history(hist,iter_num, val_acc, val_loss, time):\n",
        "    hist['iter'].append(iter_num)\n",
        "    hist['time'].append(time)\n",
        "    hist['train_loss'].append(val_loss.item())\n",
        "        # self.hist['norm_coeffs'].append(train_loss.item())\n",
        "    hist['train_loss_db'].append(val_acc.item())"
      ],
      "execution_count": 11,
      "outputs": []
    },
    {
      "cell_type": "code",
      "metadata": {
        "id": "ODkoKg_wEqvB",
        "colab_type": "code",
        "colab": {}
      },
      "source": [
        "def train_of_epoch(train_queue, model, criterion, optimizer):\n",
        "    for step, (train) in enumerate(train_queue):\n",
        "\n",
        "        input_batch = Variable(train[:,:,:1],requires_grad=False).permute(2,1,0).cuda()\n",
        "        desired = Variable(train[:,:,1:],requires_grad=False).permute(2,1,0).cuda()\n",
        "        optimizer.zero_grad()\n",
        "        out = model.forward(input_batch)\n",
        "        loss = criterion(out, desired)\n",
        "\n",
        "        loss.backward()\n",
        "\n",
        "        optimizer.step()"
      ],
      "execution_count": 12,
      "outputs": []
    },
    {
      "cell_type": "code",
      "metadata": {
        "id": "i2r-i1-kEyfG",
        "colab_type": "code",
        "colab": {}
      },
      "source": [
        "def eval_model(valid_queue, model, criterion):\n",
        "    for step, (valid) in enumerate(valid_queue):\n",
        "        model.eval()\n",
        "        input_batch = Variable(valid[:,:,:1],requires_grad=False).permute(2,1,0).cuda()\n",
        "        desired = Variable(valid[:,:,1:],requires_grad=False).permute(2,1,0).cuda()\n",
        "        out = model.forward(input_batch)\n",
        "\n",
        "\n",
        "        loss=criterion(out,desired)\n",
        "        plt.psd(input_batch.detach().cpu()[0,0,:]+\n",
        "                1j*input_batch.detach().cpu()[0,1,:],NFFT=2048)\n",
        "        plt.psd(desired.detach().cpu()[0,0,:]+\n",
        "                1j*desired.detach().cpu()[0,1,:],NFFT=2048)\n",
        "        # plt.psd(desired.permute(2,1,0).detach().cpu().reshape(-1,),NFFT=2048)\n",
        "        plt.psd((out-desired).detach().cpu()[0,0,:]+\n",
        "                1j*(out-desired).detach().cpu()[0,1,:],NFFT=2048)\n",
        "        # plt.psd((out-desired).permute(2,1,0).detach().cpu().reshape(-1,),NFFT=2048)\n",
        "        plt.show()\n",
        "\n",
        "        \n",
        "        accuracy = NMSE(input_batch, out-desired)\n",
        "#         print('Loss = ',loss.cpu().detach().numpy(), 'Accuracy = ', accuracy.cpu().detach().numpy(), 'dbs')\n",
        "    return loss,accuracy\n",
        "#     return model"
      ],
      "execution_count": 13,
      "outputs": []
    },
    {
      "cell_type": "code",
      "metadata": {
        "id": "4gT7cAFwE33y",
        "colab_type": "code",
        "colab": {}
      },
      "source": [
        "def train(train_queue, valid_queue, model, criterion, optimizer,n_epoch,\n",
        "          scheduler,log_every=1,save_flag=True,path_to_experiment='/content/drive/My Drive/Colab Notebooks/huawei/new_folder'):\n",
        "    min_loss=0\n",
        "    hist=defaultdict(list)\n",
        "    t0=timer()\n",
        "    for it in tqdm_notebook(range(n_epoch)):\n",
        "        model.train(True)\n",
        "        train_of_epoch(train_queue, model, criterion, optimizer)\n",
        "        scheduler.step()\n",
        "\n",
        "    #     if return_history and it % log_every == 0:\n",
        "    #         model.init_for_batch(train)\n",
        "    #         train_loss = complex_mse(model.forward(train.x), train.y)\n",
        "        if it%log_every==0:\n",
        "            loss_v,accuracy_v=eval_model(valid_queue,net, loss_fn)\n",
        "            update_history(hist,it, accuracy_v, loss_v, timer() - t0,)\n",
        "            print('Loss = ',loss_v.cpu().detach().numpy(), 'Accuracy = ', accuracy_v.cpu().detach().numpy(), 'dbs')\n",
        "            \n",
        "            if save_flag:\n",
        "                with open(path_to_experiment + '/hist.pkl', 'wb') as output:\n",
        "                    pickle.dump(hist, output)\n",
        "\n",
        "                    torch.save(model.state_dict(), path_to_experiment + '/model.pt')\n",
        "                if hist['train_loss_db'][-1] < min_loss:\n",
        "                            min_loss = hist['train_loss_db'][-1]\n",
        "                            torch.save(model.state_dict(), path_to_experiment + '/best_model.pth')\n",
        "    return hist"
      ],
      "execution_count": 14,
      "outputs": []
    },
    {
      "cell_type": "code",
      "metadata": {
        "id": "Djq-DkVDFQ07",
        "colab_type": "code",
        "colab": {}
      },
      "source": [
        "def draw_spectrum(input_batch,desired,out):\n",
        "  plt.psd(input_batch.detach().cpu()[0,0,:]+\n",
        "                1j*input_batch.detach().cpu()[0,1,:],NFFT=2048)\n",
        "  plt.psd(desired.detach().cpu()[0,0,:]+\n",
        "                1j*desired.detach().cpu()[0,1,:],NFFT=2048)\n",
        "        # plt.psd(desired.permute(2,1,0).detach().cpu().reshape(-1,),NFFT=2048)\n",
        "  plt.psd((out-desired).detach().cpu()[0,0,:]+\n",
        "                1j*(out-desired).detach().cpu()[0,1,:],NFFT=2048)\n",
        "        # plt.psd((out-desired).permute(2,1,0).detach().cpu().reshape(-1,),NFFT=2048)\n",
        "  plt.show()"
      ],
      "execution_count": 15,
      "outputs": []
    },
    {
      "cell_type": "code",
      "metadata": {
        "id": "xxjIHBlmFUHL",
        "colab_type": "code",
        "colab": {}
      },
      "source": [
        "np.random.seed()\n",
        "# torch.cuda.set_device()\n",
        "cudnn.benchmark = True\n",
        "torch.manual_seed(10)\n",
        "cudnn.enabled=True\n",
        "torch.cuda.manual_seed(10)"
      ],
      "execution_count": 16,
      "outputs": []
    },
    {
      "cell_type": "code",
      "metadata": {
        "id": "2klMmCM5FXyi",
        "colab_type": "code",
        "colab": {}
      },
      "source": [
        "Batch_size=5000"
      ],
      "execution_count": 17,
      "outputs": []
    },
    {
      "cell_type": "code",
      "metadata": {
        "id": "y9UlImZeFasu",
        "colab_type": "code",
        "colab": {}
      },
      "source": [
        "gamma=0.95\n",
        "step_size=5"
      ],
      "execution_count": 18,
      "outputs": []
    },
    {
      "cell_type": "code",
      "metadata": {
        "id": "f4tKgX7lFtsR",
        "colab_type": "code",
        "colab": {
          "base_uri": "https://localhost:8080/",
          "height": 34
        },
        "outputId": "f1594276-63b7-4ff7-94ce-d1da137a7407"
      },
      "source": [
        "name = 'BlackBoxData_80'\n",
        "# name = 'BlackBoxData'\n",
        "# name = '../BlackBoxData/data1'\n",
        "mat = scipy.io.loadmat(name)\n",
        "x = np.array(mat['x']).reshape(-1,1)/2**15\n",
        "d = np.array(mat['y']).reshape(-1,1)/2**15\n",
        "# x = np.array(mat['xE']).reshape(-1,1)/2**15\n",
        "# d = np.array(mat['d']).reshape(-1,1)/2**15\n",
        "# x, d = mat['xE'], mat['d']\n",
        "\n",
        "x_real, x_imag = torch.from_numpy(np.real(x)), torch.from_numpy(np.imag(x))\n",
        "d_real, d_imag = torch.from_numpy(np.real(d)), torch.from_numpy(np.imag(d))\n",
        "print(x_real.shape)\n",
        "\n",
        "X = torch.DoubleTensor(torch.cat((x_real, x_imag), dim=1)).reshape(-1,2,1)\n",
        "D = torch.DoubleTensor(torch.cat((d_real, d_imag), dim=1)).reshape(-1,2,1)\n",
        "\n",
        "train_queue = torch.utils.data.DataLoader(\n",
        "    torch.cat((X,D),dim=-1), batch_size=Batch_size)#, pin_memory=True)\n",
        "\n",
        "valid_queue = torch.utils.data.DataLoader(\n",
        "    torch.cat((X,D),dim=-1), batch_size=X.shape[0])#,pin_memory=True)"
      ],
      "execution_count": 22,
      "outputs": [
        {
          "output_type": "stream",
          "text": [
            "torch.Size([99840, 1])\n"
          ],
          "name": "stdout"
        }
      ]
    },
    {
      "cell_type": "code",
      "metadata": {
        "id": "wAM9b7gHF47z",
        "colab_type": "code",
        "colab": {}
      },
      "source": [
        "loss_fn = nn.MSELoss()"
      ],
      "execution_count": 23,
      "outputs": []
    },
    {
      "cell_type": "code",
      "metadata": {
        "id": "BcnPhM49mxh0",
        "colab_type": "code",
        "colab": {}
      },
      "source": [
        "class Cell(nn.Module):\n",
        "    def __init__(self,M=15,D=0,Poly_order=8,Passthrough=False):\n",
        "        super(Cell,self).__init__()\n",
        "        self.f1=AFIR(M,0)\n",
        "        self.f2=AFIR(M,0)\n",
        "        self.delay=Delay(D)\n",
        "        self.pol=Polynomial(Poly_order,True) # было Passthrough\n",
        "        self.prod=Prod_cmp()\n",
        "    def forward(self,x):\n",
        "        x=self.delay(x)\n",
        "        up=self.f1(x) \n",
        "        return self.prod(up,self.f2(self.pol(x)))"
      ],
      "execution_count": 26,
      "outputs": []
    },
    {
      "cell_type": "code",
      "metadata": {
        "id": "uEj0pMGkp8kK",
        "colab_type": "code",
        "colab": {}
      },
      "source": [
        "class Sasha_Cell_apd(nn.Module):\n",
        "    def __init__(self,M=15,D1=0,D2=0,Poly_order=8,Passthrough=False):\n",
        "        super(Sasha_Cell_apd,self).__init__()\n",
        "        self.f1=AFIR(M,0)\n",
        "        self.f2=AFIR(M,1)\n",
        "        self.f3=AFIR(M,0)\n",
        "        self.f4=AFIR(M,1)\n",
        "        self.pol1=Polynomial(Poly_order,True) # было Passthrough\n",
        "        self.pol2=Polynomial(Poly_order,True) # было Passthrough\n",
        "        self.delay1=Delay(D1)\n",
        "        self.delay2=Delay(D2)\n",
        "        self.prod=Prod_cmp()\n",
        "    def forward(self,x):\n",
        "        x1 = x.clone()\n",
        "        x2 = x.clone()\n",
        "        x1=self.delay1(x1)\n",
        "        x2=self.delay2(x2)\n",
        "        lis = self.f1(self.pol1(x1)) + self.f2(x1)\n",
        "        sah = self.f3(self.pol2(x2)) + self.f4(x2)\n",
        "        return self.prod(lis, sah)"
      ],
      "execution_count": 17,
      "outputs": []
    },
    {
      "cell_type": "code",
      "metadata": {
        "id": "Eum9DJdQGYln",
        "colab_type": "code",
        "colab": {}
      },
      "source": [
        "class Olga_Cell(nn.Module):\n",
        "    def __init__(self,M=15,D=2,Poly_order=2,Passthrough=True):\n",
        "        super(Olga_Cell,self).__init__()\n",
        "        self.f1=AFIR(M,0)\n",
        "        self.f2=AFIR(M,3)\n",
        "        self.f3=AFIR(M,4)\n",
        "        self.delay=Delay(D)\n",
        "        self.pol_smal=Polynomial(2,Passthrough)\n",
        "        self.pol_big=Polynomial(10,Passthrough)\n",
        "        self.prod=Prod_cmp()\n",
        " \n",
        "    def forward(self,x):\n",
        "        source = x.clone()\n",
        "        x=self.delay(x)\n",
        "        up=self.f1(x) \n",
        " \n",
        "        mid = self.pol_smal(source)\n",
        "        mid = self.prod(source,mid)\n",
        "        mid = self.f2(mid)\n",
        " \n",
        "        low = self.pol_big(source)\n",
        "        low = self.prod(low, source)\n",
        "        low = self.f3(low)\n",
        "        return up+mid+low"
      ],
      "execution_count": 18,
      "outputs": []
    },
    {
      "cell_type": "code",
      "metadata": {
        "id": "8KfsMXt7UE6M",
        "colab_type": "code",
        "colab": {}
      },
      "source": [
        "class Olga_Better_Cell(nn.Module):\n",
        "    def __init__(self,M=15,D1=-1,D2=0,D3=1,Poly_order=2,Passthrough=True):\n",
        "        super(Olga_Better_Cell,self).__init__()\n",
        "        self.f1=AFIR(M,0)\n",
        "        self.f2=AFIR(M,3)\n",
        "        self.f3=AFIR(M,4)\n",
        "        self.delay1=Delay(D1)\n",
        "        self.delay2=Delay(D2)\n",
        "        self.delay3=Delay(D3)\n",
        "        self.pol_smal=Polynomial(2,Passthrough)\n",
        "        self.pol_big=Polynomial(10,Passthrough)\n",
        "        self.prod=Prod_cmp()\n",
        " \n",
        "    def forward(self,x):\n",
        "        source = x.clone()\n",
        "        up=self.delay1(x)\n",
        "        up=self.f1(up) \n",
        " \n",
        "        mid = self.delay2(x)\n",
        "        mid = self.pol_smal(mid)\n",
        "        mid = self.prod(source,mid)\n",
        "        mid = self.f2(mid)\n",
        " \n",
        "        low = self.delay3(x)\n",
        "        low = self.pol_big(low)\n",
        "        low = self.prod(low, source)\n",
        "        low = self.f3(low)\n",
        "        return up+mid+low"
      ],
      "execution_count": 30,
      "outputs": []
    },
    {
      "cell_type": "code",
      "metadata": {
        "id": "EV7w2wxshPI6",
        "colab_type": "code",
        "colab": {}
      },
      "source": [
        "const1 = 5\n",
        "const2 = -2\n",
        "const3 = -1\n",
        "const4 = 3\n",
        "const5 = 4\n",
        "const6 = 4\n",
        "const7 = -7\n",
        "const8 = 7\n",
        "const9 = 0\n",
        "const10 = -3\n",
        "const11 = 5\n",
        "const12 = 2\n",
        "const13 = -3\n",
        "const14 = -1"
      ],
      "execution_count": 19,
      "outputs": []
    },
    {
      "cell_type": "code",
      "metadata": {
        "id": "5JcwSUT2iCmh",
        "colab_type": "code",
        "colab": {}
      },
      "source": [
        "net = Cell(D=0)\n",
        "# net\n",
        "net=net.to(\"cuda:0\")\n",
        "optimizer = torch.optim.Adam(net.parameters(), lr=1e-2)\n",
        "scheduler = torch.optim.lr_scheduler.StepLR(optimizer, step_size=step_size, gamma=1)\n",
        "hist = train(train_queue, valid_queue, net, loss_fn, optimizer,30,scheduler,save_flag=False)\n",
        "print(hist)\n",
        "##draw blocks\n",
        "hl.build_graph(net, Variable(torch.zeros([1,2,100]).double().cuda()),transforms=transforms)\n"
      ],
      "execution_count": null,
      "outputs": []
    },
    {
      "cell_type": "code",
      "metadata": {
        "id": "8SK_kydP_CuZ",
        "colab_type": "code",
        "colab": {
          "base_uri": "https://localhost:8080/",
          "height": 34
        },
        "outputId": "2ec5d6f1-933b-4cf9-fa54-42433dbce888"
      },
      "source": [
        "torch.cuda.is_available()"
      ],
      "execution_count": 21,
      "outputs": [
        {
          "output_type": "execute_result",
          "data": {
            "text/plain": [
              "True"
            ]
          },
          "metadata": {
            "tags": []
          },
          "execution_count": 21
        }
      ]
    },
    {
      "cell_type": "code",
      "metadata": {
        "id": "ZpngTsdm7Kwb",
        "colab_type": "code",
        "colab": {
          "base_uri": "https://localhost:8080/",
          "height": 466
        },
        "outputId": "953d691a-8dd2-4aab-d040-a8127d07acbc"
      },
      "source": [
        "net = Sasha_Cell_apd(D1=const1, D2=const2)\n",
        "# net\n",
        "net=net.to(\"cuda:0\")\n",
        "\n",
        "hl.build_graph(net, Variable(torch.zeros([1,2,100]).double().cuda()),transforms=transforms)"
      ],
      "execution_count": 22,
      "outputs": [
        {
          "output_type": "stream",
          "text": [
            "/content/DPDBlocks/blocks.py:38: TracerWarning: Converting a tensor to a Python index might cause the trace to be incorrect. We can't record the data flow of Python values, so this value will be treated as a constant in the future. This means that the trace might not generalize to other inputs!\n",
            "  return self.op(x)[:,:,:x.shape[2]] if self.M>0 else self.op(x)[:,:,-x.shape[2]:]\n"
          ],
          "name": "stderr"
        },
        {
          "output_type": "execute_result",
          "data": {
            "text/plain": [
              "<hiddenlayer.graph.Graph at 0x7f703a266e80>"
            ],
            "image/svg+xml": "<?xml version=\"1.0\" encoding=\"UTF-8\" standalone=\"no\"?>\n<!DOCTYPE svg PUBLIC \"-//W3C//DTD SVG 1.1//EN\"\n \"http://www.w3.org/Graphics/SVG/1.1/DTD/svg11.dtd\">\n<!-- Generated by graphviz version 2.40.1 (20161225.0304)\n -->\n<!-- Title: %3 Pages: 1 -->\n<svg width=\"835pt\" height=\"293pt\"\n viewBox=\"0.00 0.00 835.00 293.00\" xmlns=\"http://www.w3.org/2000/svg\" xmlns:xlink=\"http://www.w3.org/1999/xlink\">\n<g id=\"graph0\" class=\"graph\" transform=\"scale(1 1) rotate(0) translate(72 257)\">\n<title>%3</title>\n<polygon fill=\"#ffffff\" stroke=\"transparent\" points=\"-72,36 -72,-257 763,-257 763,36 -72,36\"/>\n<!-- /outputs/21 -->\n<g id=\"node1\" class=\"node\">\n<title>/outputs/21</title>\n<polygon fill=\"#e8e8e8\" stroke=\"#000000\" points=\"237.5,-221 183.5,-221 183.5,-185 237.5,-185 237.5,-221\"/>\n<text text-anchor=\"start\" x=\"202.5\" y=\"-200\" font-family=\"Times\" font-size=\"10.00\" fill=\"#000000\">Pad</text>\n</g>\n<!-- 156481841301554705 -->\n<g id=\"node15\" class=\"node\">\n<title>156481841301554705</title>\n<polygon fill=\"#e8e8e8\" stroke=\"#000000\" points=\"331,-167 277,-167 277,-131 331,-131 331,-167\"/>\n<text text-anchor=\"start\" x=\"289\" y=\"-146\" font-family=\"Times\" font-size=\"10.00\" fill=\"#000000\">CU_DS</text>\n</g>\n<!-- /outputs/21&#45;&gt;156481841301554705 -->\n<g id=\"edge11\" class=\"edge\">\n<title>/outputs/21&#45;&gt;156481841301554705</title>\n<path fill=\"none\" stroke=\"#000000\" d=\"M237.5441,-187.381C247.055,-181.888 257.8978,-175.6259 268.0267,-169.776\"/>\n<polygon fill=\"#000000\" stroke=\"#000000\" points=\"269.7837,-172.8031 276.6928,-164.771 266.2828,-166.7415 269.7837,-172.8031\"/>\n</g>\n<!-- /outputs/25 -->\n<g id=\"node2\" class=\"node\">\n<title>/outputs/25</title>\n<polygon fill=\"#e8e8e8\" stroke=\"#000000\" points=\"144,-167 90,-167 90,-131 144,-131 144,-167\"/>\n<text text-anchor=\"start\" x=\"109\" y=\"-146\" font-family=\"Times\" font-size=\"10.00\" fill=\"#000000\">Neg</text>\n</g>\n<!-- /outputs/28 -->\n<g id=\"node3\" class=\"node\">\n<title>/outputs/28</title>\n<polygon fill=\"#e8e8e8\" stroke=\"#000000\" points=\"241,-167 180,-167 180,-131 241,-131 241,-167\"/>\n<text text-anchor=\"start\" x=\"188.5\" y=\"-146\" font-family=\"Times\" font-size=\"10.00\" fill=\"#000000\">Unsqueeze</text>\n</g>\n<!-- /outputs/25&#45;&gt;/outputs/28 -->\n<g id=\"edge1\" class=\"edge\">\n<title>/outputs/25&#45;&gt;/outputs/28</title>\n<path fill=\"none\" stroke=\"#000000\" d=\"M144.0441,-149C152.1072,-149 161.1275,-149 169.8587,-149\"/>\n<polygon fill=\"#000000\" stroke=\"#000000\" points=\"169.9008,-152.5001 179.9008,-149 169.9007,-145.5001 169.9008,-152.5001\"/>\n</g>\n<!-- /outputs/28&#45;&gt;156481841301554705 -->\n<g id=\"edge12\" class=\"edge\">\n<title>/outputs/28&#45;&gt;156481841301554705</title>\n<path fill=\"none\" stroke=\"#000000\" d=\"M241.1154,-149C249.294,-149 258.2234,-149 266.7177,-149\"/>\n<polygon fill=\"#000000\" stroke=\"#000000\" points=\"266.7832,-152.5001 276.7832,-149 266.7832,-145.5001 266.7832,-152.5001\"/>\n</g>\n<!-- /outputs/80 -->\n<g id=\"node4\" class=\"node\">\n<title>/outputs/80</title>\n<polygon fill=\"#e8e8e8\" stroke=\"#000000\" points=\"601,-87 547,-87 547,-51 601,-51 601,-87\"/>\n<text text-anchor=\"start\" x=\"565\" y=\"-66\" font-family=\"Times\" font-size=\"10.00\" fill=\"#000000\">Add</text>\n</g>\n<!-- 2974156382219969208 -->\n<g id=\"node13\" class=\"node\">\n<title>2974156382219969208</title>\n<polygon fill=\"#e8e8e8\" stroke=\"#000000\" points=\"691,-114 637,-114 637,-78 691,-78 691,-114\"/>\n<text text-anchor=\"start\" x=\"655\" y=\"-93\" font-family=\"Times\" font-size=\"10.00\" fill=\"#000000\">Mul</text>\n</g>\n<!-- /outputs/80&#45;&gt;2974156382219969208 -->\n<g id=\"edge10\" class=\"edge\">\n<title>/outputs/80&#45;&gt;2974156382219969208</title>\n<path fill=\"none\" stroke=\"#000000\" d=\"M601.003,-77.1009C609.204,-79.5612 618.3599,-82.308 627.095,-84.9285\"/>\n<polygon fill=\"#000000\" stroke=\"#000000\" points=\"626.121,-88.2904 636.705,-87.8115 628.1325,-81.5856 626.121,-88.2904\"/>\n</g>\n<!-- /outputs/129 -->\n<g id=\"node5\" class=\"node\">\n<title>/outputs/129</title>\n<polygon fill=\"#e8e8e8\" stroke=\"#000000\" points=\"601,-141 547,-141 547,-105 601,-105 601,-141\"/>\n<text text-anchor=\"start\" x=\"565\" y=\"-120\" font-family=\"Times\" font-size=\"10.00\" fill=\"#000000\">Add</text>\n</g>\n<!-- /outputs/129&#45;&gt;2974156382219969208 -->\n<g id=\"edge9\" class=\"edge\">\n<title>/outputs/129&#45;&gt;2974156382219969208</title>\n<path fill=\"none\" stroke=\"#000000\" d=\"M601.003,-114.8991C609.204,-112.4388 618.3599,-109.692 627.095,-107.0715\"/>\n<polygon fill=\"#000000\" stroke=\"#000000\" points=\"628.1325,-110.4144 636.705,-104.1885 626.121,-103.7096 628.1325,-110.4144\"/>\n</g>\n<!-- 7984198484393358248 -->\n<g id=\"node6\" class=\"node\">\n<title>7984198484393358248</title>\n<polygon fill=\"#e8e8e8\" stroke=\"#000000\" points=\"54,-167 0,-167 0,-131 54,-131 54,-167\"/>\n<text text-anchor=\"start\" x=\"15\" y=\"-146\" font-family=\"Times\" font-size=\"10.00\" fill=\"#000000\">S_CG</text>\n</g>\n<!-- 7984198484393358248&#45;&gt;/outputs/25 -->\n<g id=\"edge2\" class=\"edge\">\n<title>7984198484393358248&#45;&gt;/outputs/25</title>\n<path fill=\"none\" stroke=\"#000000\" d=\"M54.003,-149C62.0277,-149 70.9665,-149 79.5309,-149\"/>\n<polygon fill=\"#000000\" stroke=\"#000000\" points=\"79.7051,-152.5001 89.705,-149 79.705,-145.5001 79.7051,-152.5001\"/>\n</g>\n<!-- 14304768423304682425 -->\n<g id=\"node7\" class=\"node\">\n<title>14304768423304682425</title>\n<polygon fill=\"#e8e8e8\" stroke=\"#000000\" points=\"511,-39 457,-39 457,-3 511,-3 511,-39\"/>\n<text text-anchor=\"start\" x=\"476\" y=\"-18\" font-family=\"Times\" font-size=\"10.00\" fill=\"#000000\">FIR</text>\n</g>\n<!-- 14304768423304682425&#45;&gt;/outputs/80 -->\n<g id=\"edge3\" class=\"edge\">\n<title>14304768423304682425&#45;&gt;/outputs/80</title>\n<path fill=\"none\" stroke=\"#000000\" d=\"M511.003,-35.4016C519.3804,-39.8695 528.7541,-44.8689 537.6579,-49.6176\"/>\n<polygon fill=\"#000000\" stroke=\"#000000\" points=\"536.2344,-52.825 546.705,-54.4427 539.5286,-46.6485 536.2344,-52.825\"/>\n</g>\n<!-- 161899158308630982 -->\n<g id=\"node8\" class=\"node\">\n<title>161899158308630982</title>\n<polygon fill=\"#e8e8e8\" stroke=\"#000000\" points=\"421,-90 367,-90 367,-54 421,-54 421,-90\"/>\n<text text-anchor=\"start\" x=\"386\" y=\"-69\" font-family=\"Times\" font-size=\"10.00\" fill=\"#000000\">FIR</text>\n</g>\n<!-- 161899158308630982&#45;&gt;/outputs/80 -->\n<g id=\"edge4\" class=\"edge\">\n<title>161899158308630982&#45;&gt;/outputs/80</title>\n<path fill=\"none\" stroke=\"#000000\" d=\"M421.3381,-71.5444C452.1765,-71.0304 502.5008,-70.1917 536.8771,-69.6187\"/>\n<polygon fill=\"#000000\" stroke=\"#000000\" points=\"537.0541,-73.1163 546.9944,-69.4501 536.9374,-66.1173 537.0541,-73.1163\"/>\n</g>\n<!-- 4579645290191019596 -->\n<g id=\"node9\" class=\"node\">\n<title>4579645290191019596</title>\n<polygon fill=\"#e8e8e8\" stroke=\"#000000\" points=\"511,-137 457,-137 457,-101 511,-101 511,-137\"/>\n<text text-anchor=\"start\" x=\"476\" y=\"-116\" font-family=\"Times\" font-size=\"10.00\" fill=\"#000000\">FIR</text>\n</g>\n<!-- 4579645290191019596&#45;&gt;/outputs/129 -->\n<g id=\"edge5\" class=\"edge\">\n<title>4579645290191019596&#45;&gt;/outputs/129</title>\n<path fill=\"none\" stroke=\"#000000\" d=\"M511.003,-120.2001C519.0277,-120.5568 527.9665,-120.9541 536.5309,-121.3347\"/>\n<polygon fill=\"#000000\" stroke=\"#000000\" points=\"536.5595,-124.8393 546.705,-121.7869 536.8703,-117.8462 536.5595,-124.8393\"/>\n</g>\n<!-- 17824865375316235701 -->\n<g id=\"node10\" class=\"node\">\n<title>17824865375316235701</title>\n<polygon fill=\"#e8e8e8\" stroke=\"#000000\" points=\"511,-191 457,-191 457,-155 511,-155 511,-191\"/>\n<text text-anchor=\"start\" x=\"476\" y=\"-170\" font-family=\"Times\" font-size=\"10.00\" fill=\"#000000\">FIR</text>\n</g>\n<!-- 17824865375316235701&#45;&gt;/outputs/129 -->\n<g id=\"edge6\" class=\"edge\">\n<title>17824865375316235701&#45;&gt;/outputs/129</title>\n<path fill=\"none\" stroke=\"#000000\" d=\"M511.003,-157.9984C519.4686,-153.2952 528.9516,-148.0269 537.9389,-143.0339\"/>\n<polygon fill=\"#000000\" stroke=\"#000000\" points=\"539.6632,-146.0799 546.705,-138.1639 536.2637,-139.9608 539.6632,-146.0799\"/>\n</g>\n<!-- 4753549687695966889 -->\n<g id=\"node11\" class=\"node\">\n<title>4753549687695966889</title>\n<polygon fill=\"#e8e8e8\" stroke=\"#000000\" points=\"421,-36 367,-36 367,0 421,0 421,-36\"/>\n<text text-anchor=\"start\" x=\"375\" y=\"-15\" font-family=\"Times\" font-size=\"10.00\" fill=\"#000000\">Abs&#45;Poly</text>\n</g>\n<!-- 4753549687695966889&#45;&gt;14304768423304682425 -->\n<g id=\"edge7\" class=\"edge\">\n<title>4753549687695966889&#45;&gt;14304768423304682425</title>\n<path fill=\"none\" stroke=\"#000000\" d=\"M421.003,-18.9001C429.0277,-19.1676 437.9665,-19.4656 446.5309,-19.751\"/>\n<polygon fill=\"#000000\" stroke=\"#000000\" points=\"446.5939,-23.255 456.705,-20.0902 446.8272,-16.2589 446.5939,-23.255\"/>\n</g>\n<!-- 18007221390716664703 -->\n<g id=\"node12\" class=\"node\">\n<title>18007221390716664703</title>\n<polygon fill=\"#e8e8e8\" stroke=\"#000000\" points=\"421,-144 367,-144 367,-108 421,-108 421,-144\"/>\n<text text-anchor=\"start\" x=\"375\" y=\"-123\" font-family=\"Times\" font-size=\"10.00\" fill=\"#000000\">Abs&#45;Poly</text>\n</g>\n<!-- 18007221390716664703&#45;&gt;4579645290191019596 -->\n<g id=\"edge8\" class=\"edge\">\n<title>18007221390716664703&#45;&gt;4579645290191019596</title>\n<path fill=\"none\" stroke=\"#000000\" d=\"M421.003,-123.8998C429.0277,-123.2756 437.9665,-122.5804 446.5309,-121.9143\"/>\n<polygon fill=\"#000000\" stroke=\"#000000\" points=\"447.0066,-125.3879 456.705,-121.1229 446.4637,-118.409 447.0066,-125.3879\"/>\n</g>\n<!-- 6203920338875205457 -->\n<g id=\"node14\" class=\"node\">\n<title>6203920338875205457</title>\n<polygon fill=\"#e8e8e8\" stroke=\"#000000\" points=\"237.5,-113 183.5,-113 183.5,-77 237.5,-77 237.5,-113\"/>\n<text text-anchor=\"start\" x=\"203.5\" y=\"-92\" font-family=\"Times\" font-size=\"10.00\" fill=\"#000000\">CU</text>\n</g>\n<!-- 6203920338875205457&#45;&gt;156481841301554705 -->\n<g id=\"edge13\" class=\"edge\">\n<title>6203920338875205457&#45;&gt;156481841301554705</title>\n<path fill=\"none\" stroke=\"#000000\" d=\"M237.5441,-110.619C247.055,-116.112 257.8978,-122.3741 268.0267,-128.224\"/>\n<polygon fill=\"#000000\" stroke=\"#000000\" points=\"266.2828,-131.2585 276.6928,-133.229 269.7837,-125.1969 266.2828,-131.2585\"/>\n</g>\n<!-- 156481841301554705&#45;&gt;17824865375316235701 -->\n<g id=\"edge14\" class=\"edge\">\n<title>156481841301554705&#45;&gt;17824865375316235701</title>\n<path fill=\"none\" stroke=\"#000000\" d=\"M331.3381,-152.6451C362.1765,-156.7569 412.5008,-163.4668 446.8771,-168.0503\"/>\n<polygon fill=\"#000000\" stroke=\"#000000\" points=\"446.6195,-171.5468 456.9944,-169.3993 447.5447,-164.6082 446.6195,-171.5468\"/>\n</g>\n<!-- 156481841301554705&#45;&gt;18007221390716664703 -->\n<g id=\"edge15\" class=\"edge\">\n<title>156481841301554705&#45;&gt;18007221390716664703</title>\n<path fill=\"none\" stroke=\"#000000\" d=\"M331.003,-142.0992C339.1158,-140.0259 348.1631,-137.7139 356.8131,-135.5033\"/>\n<polygon fill=\"#000000\" stroke=\"#000000\" points=\"357.883,-138.8425 366.705,-132.9754 356.1498,-132.0604 357.883,-138.8425\"/>\n</g>\n<!-- 15443266573654302398 -->\n<g id=\"node16\" class=\"node\">\n<title>15443266573654302398</title>\n<polygon fill=\"#e8e8e8\" stroke=\"#000000\" points=\"331,-63 277,-63 277,-27 331,-27 331,-63\"/>\n<text text-anchor=\"start\" x=\"292\" y=\"-42\" font-family=\"Times\" font-size=\"10.00\" fill=\"#000000\">Delay</text>\n</g>\n<!-- 15443266573654302398&#45;&gt;161899158308630982 -->\n<g id=\"edge16\" class=\"edge\">\n<title>15443266573654302398&#45;&gt;161899158308630982</title>\n<path fill=\"none\" stroke=\"#000000\" d=\"M331.003,-53.1009C339.204,-55.5612 348.3599,-58.308 357.095,-60.9285\"/>\n<polygon fill=\"#000000\" stroke=\"#000000\" points=\"356.121,-64.2904 366.705,-63.8115 358.1325,-57.5856 356.121,-64.2904\"/>\n</g>\n<!-- 15443266573654302398&#45;&gt;4753549687695966889 -->\n<g id=\"edge17\" class=\"edge\">\n<title>15443266573654302398&#45;&gt;4753549687695966889</title>\n<path fill=\"none\" stroke=\"#000000\" d=\"M331.003,-36.8991C339.204,-34.4388 348.3599,-31.692 357.095,-29.0715\"/>\n<polygon fill=\"#000000\" stroke=\"#000000\" points=\"358.1325,-32.4144 366.705,-26.1885 356.121,-25.7096 358.1325,-32.4144\"/>\n</g>\n</g>\n</svg>\n"
          },
          "metadata": {
            "tags": []
          },
          "execution_count": 22
        }
      ]
    },
    {
      "cell_type": "code",
      "metadata": {
        "id": "LZ0orJjEl4C7",
        "colab_type": "code",
        "colab": {}
      },
      "source": [
        "optimizer = torch.optim.Adam(net.parameters(), lr=1e-2)\n",
        "scheduler = torch.optim.lr_scheduler.StepLR(optimizer, step_size=step_size, gamma=1)\n",
        "hist1 = train(train_queue, valid_queue, net, loss_fn, optimizer,30,scheduler,save_flag=False)"
      ],
      "execution_count": null,
      "outputs": []
    },
    {
      "cell_type": "code",
      "metadata": {
        "id": "XMFfEB2f_ueg",
        "colab_type": "code",
        "colab": {}
      },
      "source": [
        "net = Sasha_Cell_apd(D1=const3, D2=const4)\n",
        "# net\n",
        "net=net.to(\"cuda:0\")\n",
        "optimizer = torch.optim.Adam(net.parameters(), lr=1e-2)\n",
        "scheduler = torch.optim.lr_scheduler.StepLR(optimizer, step_size=step_size, gamma=1)\n",
        "hist2 = train(train_queue, valid_queue, net, loss_fn, optimizer,30,scheduler,save_flag=False)\n",
        "\n",
        "hl.build_graph(net, Variable(torch.zeros([1,2,100]).double().cuda()),transforms=transforms)"
      ],
      "execution_count": null,
      "outputs": []
    },
    {
      "cell_type": "code",
      "metadata": {
        "id": "jriSzt-O_vQg",
        "colab_type": "code",
        "colab": {}
      },
      "source": [
        "net = Sasha_Cell_apd(D1=const5, D2=const6)\n",
        "# net\n",
        "net=net.to(\"cuda:0\")\n",
        "optimizer = torch.optim.Adam(net.parameters(), lr=1e-2)\n",
        "scheduler = torch.optim.lr_scheduler.StepLR(optimizer, step_size=step_size, gamma=1)\n",
        "hist3 = train(train_queue, valid_queue, net, loss_fn, optimizer,30,scheduler,save_flag=False)\n"
      ],
      "execution_count": null,
      "outputs": []
    },
    {
      "cell_type": "code",
      "metadata": {
        "id": "vpWKx_8N3_oQ",
        "colab_type": "code",
        "colab": {
          "base_uri": "https://localhost:8080/",
          "height": 466
        },
        "outputId": "63c3d687-a1af-4df8-da54-15849a1431a6"
      },
      "source": [
        "net = Sasha_Cell_apd(D1=const7, D2=const8)\n",
        "# net\n",
        "net=net.to(\"cuda:0\")\n",
        "\n",
        "hl.build_graph(net, Variable(torch.zeros([1,2,100]).double().cuda()),transforms=transforms)"
      ],
      "execution_count": 23,
      "outputs": [
        {
          "output_type": "stream",
          "text": [
            "/content/DPDBlocks/blocks.py:38: TracerWarning: Converting a tensor to a Python index might cause the trace to be incorrect. We can't record the data flow of Python values, so this value will be treated as a constant in the future. This means that the trace might not generalize to other inputs!\n",
            "  return self.op(x)[:,:,:x.shape[2]] if self.M>0 else self.op(x)[:,:,-x.shape[2]:]\n"
          ],
          "name": "stderr"
        },
        {
          "output_type": "execute_result",
          "data": {
            "text/plain": [
              "<hiddenlayer.graph.Graph at 0x7f703663de80>"
            ],
            "image/svg+xml": "<?xml version=\"1.0\" encoding=\"UTF-8\" standalone=\"no\"?>\n<!DOCTYPE svg PUBLIC \"-//W3C//DTD SVG 1.1//EN\"\n \"http://www.w3.org/Graphics/SVG/1.1/DTD/svg11.dtd\">\n<!-- Generated by graphviz version 2.40.1 (20161225.0304)\n -->\n<!-- Title: %3 Pages: 1 -->\n<svg width=\"835pt\" height=\"293pt\"\n viewBox=\"0.00 0.00 835.00 293.00\" xmlns=\"http://www.w3.org/2000/svg\" xmlns:xlink=\"http://www.w3.org/1999/xlink\">\n<g id=\"graph0\" class=\"graph\" transform=\"scale(1 1) rotate(0) translate(72 257)\">\n<title>%3</title>\n<polygon fill=\"#ffffff\" stroke=\"transparent\" points=\"-72,36 -72,-257 763,-257 763,36 -72,36\"/>\n<!-- /outputs/11 -->\n<g id=\"node1\" class=\"node\">\n<title>/outputs/11</title>\n<polygon fill=\"#e8e8e8\" stroke=\"#000000\" points=\"237.5,-221 183.5,-221 183.5,-185 237.5,-185 237.5,-221\"/>\n<text text-anchor=\"start\" x=\"202.5\" y=\"-200\" font-family=\"Times\" font-size=\"10.00\" fill=\"#000000\">Pad</text>\n</g>\n<!-- 3840470017521913435 -->\n<g id=\"node15\" class=\"node\">\n<title>3840470017521913435</title>\n<polygon fill=\"#e8e8e8\" stroke=\"#000000\" points=\"331,-167 277,-167 277,-131 331,-131 331,-167\"/>\n<text text-anchor=\"start\" x=\"289\" y=\"-146\" font-family=\"Times\" font-size=\"10.00\" fill=\"#000000\">CU_DS</text>\n</g>\n<!-- /outputs/11&#45;&gt;3840470017521913435 -->\n<g id=\"edge11\" class=\"edge\">\n<title>/outputs/11&#45;&gt;3840470017521913435</title>\n<path fill=\"none\" stroke=\"#000000\" d=\"M237.5441,-187.381C247.055,-181.888 257.8978,-175.6259 268.0267,-169.776\"/>\n<polygon fill=\"#000000\" stroke=\"#000000\" points=\"269.7837,-172.8031 276.6928,-164.771 266.2828,-166.7415 269.7837,-172.8031\"/>\n</g>\n<!-- /outputs/15 -->\n<g id=\"node2\" class=\"node\">\n<title>/outputs/15</title>\n<polygon fill=\"#e8e8e8\" stroke=\"#000000\" points=\"144,-167 90,-167 90,-131 144,-131 144,-167\"/>\n<text text-anchor=\"start\" x=\"109\" y=\"-146\" font-family=\"Times\" font-size=\"10.00\" fill=\"#000000\">Neg</text>\n</g>\n<!-- /outputs/18 -->\n<g id=\"node3\" class=\"node\">\n<title>/outputs/18</title>\n<polygon fill=\"#e8e8e8\" stroke=\"#000000\" points=\"241,-167 180,-167 180,-131 241,-131 241,-167\"/>\n<text text-anchor=\"start\" x=\"188.5\" y=\"-146\" font-family=\"Times\" font-size=\"10.00\" fill=\"#000000\">Unsqueeze</text>\n</g>\n<!-- /outputs/15&#45;&gt;/outputs/18 -->\n<g id=\"edge1\" class=\"edge\">\n<title>/outputs/15&#45;&gt;/outputs/18</title>\n<path fill=\"none\" stroke=\"#000000\" d=\"M144.0441,-149C152.1072,-149 161.1275,-149 169.8587,-149\"/>\n<polygon fill=\"#000000\" stroke=\"#000000\" points=\"169.9008,-152.5001 179.9008,-149 169.9007,-145.5001 169.9008,-152.5001\"/>\n</g>\n<!-- /outputs/18&#45;&gt;3840470017521913435 -->\n<g id=\"edge12\" class=\"edge\">\n<title>/outputs/18&#45;&gt;3840470017521913435</title>\n<path fill=\"none\" stroke=\"#000000\" d=\"M241.1154,-149C249.294,-149 258.2234,-149 266.7177,-149\"/>\n<polygon fill=\"#000000\" stroke=\"#000000\" points=\"266.7832,-152.5001 276.7832,-149 266.7832,-145.5001 266.7832,-152.5001\"/>\n</g>\n<!-- /outputs/80 -->\n<g id=\"node4\" class=\"node\">\n<title>/outputs/80</title>\n<polygon fill=\"#e8e8e8\" stroke=\"#000000\" points=\"601,-141 547,-141 547,-105 601,-105 601,-141\"/>\n<text text-anchor=\"start\" x=\"565\" y=\"-120\" font-family=\"Times\" font-size=\"10.00\" fill=\"#000000\">Add</text>\n</g>\n<!-- 13626435153773457081 -->\n<g id=\"node13\" class=\"node\">\n<title>13626435153773457081</title>\n<polygon fill=\"#e8e8e8\" stroke=\"#000000\" points=\"691,-114 637,-114 637,-78 691,-78 691,-114\"/>\n<text text-anchor=\"start\" x=\"655\" y=\"-93\" font-family=\"Times\" font-size=\"10.00\" fill=\"#000000\">Mul</text>\n</g>\n<!-- /outputs/80&#45;&gt;13626435153773457081 -->\n<g id=\"edge10\" class=\"edge\">\n<title>/outputs/80&#45;&gt;13626435153773457081</title>\n<path fill=\"none\" stroke=\"#000000\" d=\"M601.003,-114.8991C609.204,-112.4388 618.3599,-109.692 627.095,-107.0715\"/>\n<polygon fill=\"#000000\" stroke=\"#000000\" points=\"628.1325,-110.4144 636.705,-104.1885 626.121,-103.7096 628.1325,-110.4144\"/>\n</g>\n<!-- /outputs/129 -->\n<g id=\"node5\" class=\"node\">\n<title>/outputs/129</title>\n<polygon fill=\"#e8e8e8\" stroke=\"#000000\" points=\"601,-87 547,-87 547,-51 601,-51 601,-87\"/>\n<text text-anchor=\"start\" x=\"565\" y=\"-66\" font-family=\"Times\" font-size=\"10.00\" fill=\"#000000\">Add</text>\n</g>\n<!-- /outputs/129&#45;&gt;13626435153773457081 -->\n<g id=\"edge9\" class=\"edge\">\n<title>/outputs/129&#45;&gt;13626435153773457081</title>\n<path fill=\"none\" stroke=\"#000000\" d=\"M601.003,-77.1009C609.204,-79.5612 618.3599,-82.308 627.095,-84.9285\"/>\n<polygon fill=\"#000000\" stroke=\"#000000\" points=\"626.121,-88.2904 636.705,-87.8115 628.1325,-81.5856 626.121,-88.2904\"/>\n</g>\n<!-- 1290988341189704589 -->\n<g id=\"node6\" class=\"node\">\n<title>1290988341189704589</title>\n<polygon fill=\"#e8e8e8\" stroke=\"#000000\" points=\"54,-167 0,-167 0,-131 54,-131 54,-167\"/>\n<text text-anchor=\"start\" x=\"15\" y=\"-146\" font-family=\"Times\" font-size=\"10.00\" fill=\"#000000\">S_CG</text>\n</g>\n<!-- 1290988341189704589&#45;&gt;/outputs/15 -->\n<g id=\"edge2\" class=\"edge\">\n<title>1290988341189704589&#45;&gt;/outputs/15</title>\n<path fill=\"none\" stroke=\"#000000\" d=\"M54.003,-149C62.0277,-149 70.9665,-149 79.5309,-149\"/>\n<polygon fill=\"#000000\" stroke=\"#000000\" points=\"79.7051,-152.5001 89.705,-149 79.705,-145.5001 79.7051,-152.5001\"/>\n</g>\n<!-- 8804057090403050459 -->\n<g id=\"node7\" class=\"node\">\n<title>8804057090403050459</title>\n<polygon fill=\"#e8e8e8\" stroke=\"#000000\" points=\"511,-137 457,-137 457,-101 511,-101 511,-137\"/>\n<text text-anchor=\"start\" x=\"476\" y=\"-116\" font-family=\"Times\" font-size=\"10.00\" fill=\"#000000\">FIR</text>\n</g>\n<!-- 8804057090403050459&#45;&gt;/outputs/80 -->\n<g id=\"edge3\" class=\"edge\">\n<title>8804057090403050459&#45;&gt;/outputs/80</title>\n<path fill=\"none\" stroke=\"#000000\" d=\"M511.003,-120.2001C519.0277,-120.5568 527.9665,-120.9541 536.5309,-121.3347\"/>\n<polygon fill=\"#000000\" stroke=\"#000000\" points=\"536.5595,-124.8393 546.705,-121.7869 536.8703,-117.8462 536.5595,-124.8393\"/>\n</g>\n<!-- 11863342580512890297 -->\n<g id=\"node8\" class=\"node\">\n<title>11863342580512890297</title>\n<polygon fill=\"#e8e8e8\" stroke=\"#000000\" points=\"511,-191 457,-191 457,-155 511,-155 511,-191\"/>\n<text text-anchor=\"start\" x=\"476\" y=\"-170\" font-family=\"Times\" font-size=\"10.00\" fill=\"#000000\">FIR</text>\n</g>\n<!-- 11863342580512890297&#45;&gt;/outputs/80 -->\n<g id=\"edge4\" class=\"edge\">\n<title>11863342580512890297&#45;&gt;/outputs/80</title>\n<path fill=\"none\" stroke=\"#000000\" d=\"M511.003,-157.9984C519.4686,-153.2952 528.9516,-148.0269 537.9389,-143.0339\"/>\n<polygon fill=\"#000000\" stroke=\"#000000\" points=\"539.6632,-146.0799 546.705,-138.1639 536.2637,-139.9608 539.6632,-146.0799\"/>\n</g>\n<!-- 15105483132789872040 -->\n<g id=\"node9\" class=\"node\">\n<title>15105483132789872040</title>\n<polygon fill=\"#e8e8e8\" stroke=\"#000000\" points=\"511,-39 457,-39 457,-3 511,-3 511,-39\"/>\n<text text-anchor=\"start\" x=\"476\" y=\"-18\" font-family=\"Times\" font-size=\"10.00\" fill=\"#000000\">FIR</text>\n</g>\n<!-- 15105483132789872040&#45;&gt;/outputs/129 -->\n<g id=\"edge5\" class=\"edge\">\n<title>15105483132789872040&#45;&gt;/outputs/129</title>\n<path fill=\"none\" stroke=\"#000000\" d=\"M511.003,-35.4016C519.3804,-39.8695 528.7541,-44.8689 537.6579,-49.6176\"/>\n<polygon fill=\"#000000\" stroke=\"#000000\" points=\"536.2344,-52.825 546.705,-54.4427 539.5286,-46.6485 536.2344,-52.825\"/>\n</g>\n<!-- 15336589780224731347 -->\n<g id=\"node10\" class=\"node\">\n<title>15336589780224731347</title>\n<polygon fill=\"#e8e8e8\" stroke=\"#000000\" points=\"421,-90 367,-90 367,-54 421,-54 421,-90\"/>\n<text text-anchor=\"start\" x=\"386\" y=\"-69\" font-family=\"Times\" font-size=\"10.00\" fill=\"#000000\">FIR</text>\n</g>\n<!-- 15336589780224731347&#45;&gt;/outputs/129 -->\n<g id=\"edge6\" class=\"edge\">\n<title>15336589780224731347&#45;&gt;/outputs/129</title>\n<path fill=\"none\" stroke=\"#000000\" d=\"M421.3381,-71.5444C452.1765,-71.0304 502.5008,-70.1917 536.8771,-69.6187\"/>\n<polygon fill=\"#000000\" stroke=\"#000000\" points=\"537.0541,-73.1163 546.9944,-69.4501 536.9374,-66.1173 537.0541,-73.1163\"/>\n</g>\n<!-- 10496091893156802850 -->\n<g id=\"node11\" class=\"node\">\n<title>10496091893156802850</title>\n<polygon fill=\"#e8e8e8\" stroke=\"#000000\" points=\"421,-144 367,-144 367,-108 421,-108 421,-144\"/>\n<text text-anchor=\"start\" x=\"375\" y=\"-123\" font-family=\"Times\" font-size=\"10.00\" fill=\"#000000\">Abs&#45;Poly</text>\n</g>\n<!-- 10496091893156802850&#45;&gt;8804057090403050459 -->\n<g id=\"edge7\" class=\"edge\">\n<title>10496091893156802850&#45;&gt;8804057090403050459</title>\n<path fill=\"none\" stroke=\"#000000\" d=\"M421.003,-123.8998C429.0277,-123.2756 437.9665,-122.5804 446.5309,-121.9143\"/>\n<polygon fill=\"#000000\" stroke=\"#000000\" points=\"447.0066,-125.3879 456.705,-121.1229 446.4637,-118.409 447.0066,-125.3879\"/>\n</g>\n<!-- 9964716316386065189 -->\n<g id=\"node12\" class=\"node\">\n<title>9964716316386065189</title>\n<polygon fill=\"#e8e8e8\" stroke=\"#000000\" points=\"421,-36 367,-36 367,0 421,0 421,-36\"/>\n<text text-anchor=\"start\" x=\"375\" y=\"-15\" font-family=\"Times\" font-size=\"10.00\" fill=\"#000000\">Abs&#45;Poly</text>\n</g>\n<!-- 9964716316386065189&#45;&gt;15105483132789872040 -->\n<g id=\"edge8\" class=\"edge\">\n<title>9964716316386065189&#45;&gt;15105483132789872040</title>\n<path fill=\"none\" stroke=\"#000000\" d=\"M421.003,-18.9001C429.0277,-19.1676 437.9665,-19.4656 446.5309,-19.751\"/>\n<polygon fill=\"#000000\" stroke=\"#000000\" points=\"446.5939,-23.255 456.705,-20.0902 446.8272,-16.2589 446.5939,-23.255\"/>\n</g>\n<!-- 5173886486688088639 -->\n<g id=\"node14\" class=\"node\">\n<title>5173886486688088639</title>\n<polygon fill=\"#e8e8e8\" stroke=\"#000000\" points=\"237.5,-113 183.5,-113 183.5,-77 237.5,-77 237.5,-113\"/>\n<text text-anchor=\"start\" x=\"203.5\" y=\"-92\" font-family=\"Times\" font-size=\"10.00\" fill=\"#000000\">CU</text>\n</g>\n<!-- 5173886486688088639&#45;&gt;3840470017521913435 -->\n<g id=\"edge13\" class=\"edge\">\n<title>5173886486688088639&#45;&gt;3840470017521913435</title>\n<path fill=\"none\" stroke=\"#000000\" d=\"M237.5441,-110.619C247.055,-116.112 257.8978,-122.3741 268.0267,-128.224\"/>\n<polygon fill=\"#000000\" stroke=\"#000000\" points=\"266.2828,-131.2585 276.6928,-133.229 269.7837,-125.1969 266.2828,-131.2585\"/>\n</g>\n<!-- 3840470017521913435&#45;&gt;11863342580512890297 -->\n<g id=\"edge14\" class=\"edge\">\n<title>3840470017521913435&#45;&gt;11863342580512890297</title>\n<path fill=\"none\" stroke=\"#000000\" d=\"M331.3381,-152.6451C362.1765,-156.7569 412.5008,-163.4668 446.8771,-168.0503\"/>\n<polygon fill=\"#000000\" stroke=\"#000000\" points=\"446.6195,-171.5468 456.9944,-169.3993 447.5447,-164.6082 446.6195,-171.5468\"/>\n</g>\n<!-- 3840470017521913435&#45;&gt;10496091893156802850 -->\n<g id=\"edge15\" class=\"edge\">\n<title>3840470017521913435&#45;&gt;10496091893156802850</title>\n<path fill=\"none\" stroke=\"#000000\" d=\"M331.003,-142.0992C339.1158,-140.0259 348.1631,-137.7139 356.8131,-135.5033\"/>\n<polygon fill=\"#000000\" stroke=\"#000000\" points=\"357.883,-138.8425 366.705,-132.9754 356.1498,-132.0604 357.883,-138.8425\"/>\n</g>\n<!-- 10875894539133735455 -->\n<g id=\"node16\" class=\"node\">\n<title>10875894539133735455</title>\n<polygon fill=\"#e8e8e8\" stroke=\"#000000\" points=\"331,-63 277,-63 277,-27 331,-27 331,-63\"/>\n<text text-anchor=\"start\" x=\"292\" y=\"-42\" font-family=\"Times\" font-size=\"10.00\" fill=\"#000000\">Delay</text>\n</g>\n<!-- 10875894539133735455&#45;&gt;15336589780224731347 -->\n<g id=\"edge16\" class=\"edge\">\n<title>10875894539133735455&#45;&gt;15336589780224731347</title>\n<path fill=\"none\" stroke=\"#000000\" d=\"M331.003,-53.1009C339.204,-55.5612 348.3599,-58.308 357.095,-60.9285\"/>\n<polygon fill=\"#000000\" stroke=\"#000000\" points=\"356.121,-64.2904 366.705,-63.8115 358.1325,-57.5856 356.121,-64.2904\"/>\n</g>\n<!-- 10875894539133735455&#45;&gt;9964716316386065189 -->\n<g id=\"edge17\" class=\"edge\">\n<title>10875894539133735455&#45;&gt;9964716316386065189</title>\n<path fill=\"none\" stroke=\"#000000\" d=\"M331.003,-36.8991C339.204,-34.4388 348.3599,-31.692 357.095,-29.0715\"/>\n<polygon fill=\"#000000\" stroke=\"#000000\" points=\"358.1325,-32.4144 366.705,-26.1885 356.121,-25.7096 358.1325,-32.4144\"/>\n</g>\n</g>\n</svg>\n"
          },
          "metadata": {
            "tags": []
          },
          "execution_count": 23
        }
      ]
    },
    {
      "cell_type": "code",
      "metadata": {
        "id": "KK5lQeEa_wBH",
        "colab_type": "code",
        "colab": {}
      },
      "source": [
        "optimizer = torch.optim.Adam(net.parameters(), lr=1e-2)\n",
        "scheduler = torch.optim.lr_scheduler.StepLR(optimizer, step_size=step_size, gamma=1)\n",
        "hist4 = train(train_queue, valid_queue, net, loss_fn, optimizer,30,scheduler,save_flag=False)"
      ],
      "execution_count": null,
      "outputs": []
    },
    {
      "cell_type": "code",
      "metadata": {
        "id": "J8-oQGMx30-S",
        "colab_type": "code",
        "colab": {
          "base_uri": "https://localhost:8080/",
          "height": 508
        },
        "outputId": "05459f4f-c781-4bd6-b723-80899a640fce"
      },
      "source": [
        "net = Olga_Better_Cell(D1=1, D2=0, D3=-1)\n",
        "# net\n",
        "net=net.to(\"cuda:0\")\n",
        "\n",
        "hl.build_graph(net, Variable(torch.zeros([1,2,100]).double().cuda()),transforms=transforms)"
      ],
      "execution_count": 31,
      "outputs": [
        {
          "output_type": "stream",
          "text": [
            "/content/DPDBlocks/blocks.py:38: TracerWarning: Converting a tensor to a Python index might cause the trace to be incorrect. We can't record the data flow of Python values, so this value will be treated as a constant in the future. This means that the trace might not generalize to other inputs!\n",
            "  return self.op(x)[:,:,:x.shape[2]] if self.M>0 else self.op(x)[:,:,-x.shape[2]:]\n"
          ],
          "name": "stderr"
        },
        {
          "output_type": "execute_result",
          "data": {
            "text/plain": [
              "<hiddenlayer.graph.Graph at 0x7f46f07870b8>"
            ],
            "image/svg+xml": "<?xml version=\"1.0\" encoding=\"UTF-8\" standalone=\"no\"?>\n<!DOCTYPE svg PUBLIC \"-//W3C//DTD SVG 1.1//EN\"\n \"http://www.w3.org/Graphics/SVG/1.1/DTD/svg11.dtd\">\n<!-- Generated by graphviz version 2.40.1 (20161225.0304)\n -->\n<!-- Title: %3 Pages: 1 -->\n<svg width=\"925pt\" height=\"325pt\"\n viewBox=\"0.00 0.00 925.00 324.76\" xmlns=\"http://www.w3.org/2000/svg\" xmlns:xlink=\"http://www.w3.org/1999/xlink\">\n<g id=\"graph0\" class=\"graph\" transform=\"scale(1 1) rotate(0) translate(72 288.7586)\">\n<title>%3</title>\n<polygon fill=\"#ffffff\" stroke=\"transparent\" points=\"-72,36 -72,-288.7586 853,-288.7586 853,36 -72,36\"/>\n<!-- /outputs/42 -->\n<g id=\"node1\" class=\"node\">\n<title>/outputs/42</title>\n<polygon fill=\"#e8e8e8\" stroke=\"#000000\" points=\"54,-96.7586 0,-96.7586 0,-60.7586 54,-60.7586 54,-96.7586\"/>\n<text text-anchor=\"start\" x=\"19\" y=\"-75.7586\" font-family=\"Times\" font-size=\"10.00\" fill=\"#000000\">Pad</text>\n</g>\n<!-- /outputs/117 -->\n<g id=\"node4\" class=\"node\">\n<title>/outputs/117</title>\n<polygon fill=\"#e8e8e8\" stroke=\"#000000\" points=\"234,-252.7586 180,-252.7586 180,-216.7586 234,-216.7586 234,-252.7586\"/>\n<text text-anchor=\"start\" x=\"199\" y=\"-231.7586\" font-family=\"Times\" font-size=\"10.00\" fill=\"#000000\">Pad</text>\n</g>\n<!-- /outputs/42&#45;&gt;/outputs/117 -->\n<g id=\"edge1\" class=\"edge\">\n<title>/outputs/42&#45;&gt;/outputs/117</title>\n<path fill=\"none\" stroke=\"#000000\" d=\"M39.0765,-97.059C50.8149,-114.0094 69.7878,-139.3093 90,-157.7586 114.6843,-180.29 146.5877,-200.8226 170.8436,-215.0082\"/>\n<polygon fill=\"#000000\" stroke=\"#000000\" points=\"169.3216,-218.1704 179.7345,-220.1251 172.8133,-212.1034 169.3216,-218.1704\"/>\n</g>\n<!-- 15246813346064620521 -->\n<g id=\"node7\" class=\"node\">\n<title>15246813346064620521</title>\n<polygon fill=\"#e8e8e8\" stroke=\"#000000\" points=\"144,-69.7586 90,-69.7586 90,-33.7586 144,-33.7586 144,-69.7586\"/>\n<text text-anchor=\"start\" x=\"105\" y=\"-48.7586\" font-family=\"Times\" font-size=\"10.00\" fill=\"#000000\">S_CG</text>\n</g>\n<!-- /outputs/42&#45;&gt;15246813346064620521 -->\n<g id=\"edge4\" class=\"edge\">\n<title>/outputs/42&#45;&gt;15246813346064620521</title>\n<path fill=\"none\" stroke=\"#000000\" d=\"M54.003,-70.6577C62.204,-68.1974 71.3599,-65.4507 80.095,-62.8301\"/>\n<polygon fill=\"#000000\" stroke=\"#000000\" points=\"81.1325,-66.1731 89.705,-59.9471 79.121,-59.4683 81.1325,-66.1731\"/>\n</g>\n<!-- 9311589510789680444 -->\n<g id=\"node8\" class=\"node\">\n<title>9311589510789680444</title>\n<polygon fill=\"#e8e8e8\" stroke=\"#000000\" points=\"144,-148.7586 90,-148.7586 90,-112.7586 144,-112.7586 144,-148.7586\"/>\n<text text-anchor=\"start\" x=\"105\" y=\"-127.7586\" font-family=\"Times\" font-size=\"10.00\" fill=\"#000000\">S_CG</text>\n</g>\n<!-- /outputs/42&#45;&gt;9311589510789680444 -->\n<g id=\"edge6\" class=\"edge\">\n<title>/outputs/42&#45;&gt;9311589510789680444</title>\n<path fill=\"none\" stroke=\"#000000\" d=\"M54.003,-94.3603C62.4686,-99.2516 71.9516,-104.7307 80.9389,-109.9234\"/>\n<polygon fill=\"#000000\" stroke=\"#000000\" points=\"79.2954,-113.0159 89.705,-114.9882 82.7974,-106.9548 79.2954,-113.0159\"/>\n</g>\n<!-- 12564466016696808647 -->\n<g id=\"node18\" class=\"node\">\n<title>12564466016696808647</title>\n<polygon fill=\"#e8e8e8\" stroke=\"#000000\" points=\"421,-79.7586 367,-79.7586 367,-43.7586 421,-43.7586 421,-79.7586\"/>\n<text text-anchor=\"start\" x=\"379\" y=\"-58.7586\" font-family=\"Times\" font-size=\"10.00\" fill=\"#000000\">CU_DS</text>\n</g>\n<!-- /outputs/42&#45;&gt;12564466016696808647 -->\n<g id=\"edge12\" class=\"edge\">\n<title>/outputs/42&#45;&gt;12564466016696808647</title>\n<path fill=\"none\" stroke=\"#000000\" d=\"M41.6951,-60.6606C53.286,-47.9176 70.6796,-31.9057 90,-24.7586 190.4579,12.4032 227.6423,3.348 331,-24.7586 341.5741,-27.6341 352.1859,-32.7824 361.6059,-38.3422\"/>\n<polygon fill=\"#000000\" stroke=\"#000000\" points=\"359.898,-41.4021 370.2321,-43.738 363.6102,-35.4675 359.898,-41.4021\"/>\n</g>\n<!-- /outputs/46 -->\n<g id=\"node2\" class=\"node\">\n<title>/outputs/46</title>\n<polygon fill=\"#e8e8e8\" stroke=\"#000000\" points=\"234,-69.7586 180,-69.7586 180,-33.7586 234,-33.7586 234,-69.7586\"/>\n<text text-anchor=\"start\" x=\"199\" y=\"-48.7586\" font-family=\"Times\" font-size=\"10.00\" fill=\"#000000\">Neg</text>\n</g>\n<!-- /outputs/49 -->\n<g id=\"node3\" class=\"node\">\n<title>/outputs/49</title>\n<polygon fill=\"#e8e8e8\" stroke=\"#000000\" points=\"331,-69.7586 270,-69.7586 270,-33.7586 331,-33.7586 331,-69.7586\"/>\n<text text-anchor=\"start\" x=\"278.5\" y=\"-48.7586\" font-family=\"Times\" font-size=\"10.00\" fill=\"#000000\">Unsqueeze</text>\n</g>\n<!-- /outputs/46&#45;&gt;/outputs/49 -->\n<g id=\"edge2\" class=\"edge\">\n<title>/outputs/46&#45;&gt;/outputs/49</title>\n<path fill=\"none\" stroke=\"#000000\" d=\"M234.0441,-51.7586C242.1072,-51.7586 251.1275,-51.7586 259.8587,-51.7586\"/>\n<polygon fill=\"#000000\" stroke=\"#000000\" points=\"259.9008,-55.2587 269.9008,-51.7586 259.9007,-48.2587 259.9008,-55.2587\"/>\n</g>\n<!-- /outputs/49&#45;&gt;12564466016696808647 -->\n<g id=\"edge13\" class=\"edge\">\n<title>/outputs/49&#45;&gt;12564466016696808647</title>\n<path fill=\"none\" stroke=\"#000000\" d=\"M331.1154,-55.033C339.294,-55.9077 348.2234,-56.8627 356.7177,-57.7712\"/>\n<polygon fill=\"#000000\" stroke=\"#000000\" points=\"356.4677,-61.2644 366.7832,-58.8477 357.2121,-54.3041 356.4677,-61.2644\"/>\n</g>\n<!-- 15990355866543088094 -->\n<g id=\"node19\" class=\"node\">\n<title>15990355866543088094</title>\n<polygon fill=\"#e8e8e8\" stroke=\"#000000\" points=\"421,-204.7586 367,-204.7586 367,-168.7586 421,-168.7586 421,-204.7586\"/>\n<text text-anchor=\"start\" x=\"379\" y=\"-183.7586\" font-family=\"Times\" font-size=\"10.00\" fill=\"#000000\">CU_DS</text>\n</g>\n<!-- /outputs/117&#45;&gt;15990355866543088094 -->\n<g id=\"edge16\" class=\"edge\">\n<title>/outputs/117&#45;&gt;15990355866543088094</title>\n<path fill=\"none\" stroke=\"#000000\" d=\"M234.0516,-242.0238C259.8158,-247.5821 299.2637,-252.4987 331,-240.7586 346.6978,-234.9516 361.1236,-223.2925 372.1985,-212.2894\"/>\n<polygon fill=\"#000000\" stroke=\"#000000\" points=\"374.924,-214.5034 379.3049,-204.8567 369.8644,-209.666 374.924,-214.5034\"/>\n</g>\n<!-- /outputs/121 -->\n<g id=\"node5\" class=\"node\">\n<title>/outputs/121</title>\n<polygon fill=\"#e8e8e8\" stroke=\"#000000\" points=\"234,-173.7586 180,-173.7586 180,-137.7586 234,-137.7586 234,-173.7586\"/>\n<text text-anchor=\"start\" x=\"199\" y=\"-152.7586\" font-family=\"Times\" font-size=\"10.00\" fill=\"#000000\">Neg</text>\n</g>\n<!-- /outputs/124 -->\n<g id=\"node6\" class=\"node\">\n<title>/outputs/124</title>\n<polygon fill=\"#e8e8e8\" stroke=\"#000000\" points=\"331,-231.7586 270,-231.7586 270,-195.7586 331,-195.7586 331,-231.7586\"/>\n<text text-anchor=\"start\" x=\"278.5\" y=\"-210.7586\" font-family=\"Times\" font-size=\"10.00\" fill=\"#000000\">Unsqueeze</text>\n</g>\n<!-- /outputs/121&#45;&gt;/outputs/124 -->\n<g id=\"edge3\" class=\"edge\">\n<title>/outputs/121&#45;&gt;/outputs/124</title>\n<path fill=\"none\" stroke=\"#000000\" d=\"M234.0441,-172.5346C242.9634,-178.0675 253.054,-184.3269 262.6288,-190.2664\"/>\n<polygon fill=\"#000000\" stroke=\"#000000\" points=\"260.8858,-193.3038 271.2286,-195.601 264.5758,-187.3553 260.8858,-193.3038\"/>\n</g>\n<!-- /outputs/124&#45;&gt;15990355866543088094 -->\n<g id=\"edge17\" class=\"edge\">\n<title>/outputs/124&#45;&gt;15990355866543088094</title>\n<path fill=\"none\" stroke=\"#000000\" d=\"M331.1154,-204.9178C339.3838,-202.5301 348.4198,-199.9208 356.9975,-197.4438\"/>\n<polygon fill=\"#000000\" stroke=\"#000000\" points=\"358.1468,-200.7551 366.7832,-194.618 356.2047,-194.0298 358.1468,-200.7551\"/>\n</g>\n<!-- 15246813346064620521&#45;&gt;/outputs/46 -->\n<g id=\"edge5\" class=\"edge\">\n<title>15246813346064620521&#45;&gt;/outputs/46</title>\n<path fill=\"none\" stroke=\"#000000\" d=\"M144.003,-51.7586C152.0277,-51.7586 160.9665,-51.7586 169.5309,-51.7586\"/>\n<polygon fill=\"#000000\" stroke=\"#000000\" points=\"169.7051,-55.2587 179.705,-51.7586 169.705,-48.2587 169.7051,-55.2587\"/>\n</g>\n<!-- 9311589510789680444&#45;&gt;/outputs/121 -->\n<g id=\"edge7\" class=\"edge\">\n<title>9311589510789680444&#45;&gt;/outputs/121</title>\n<path fill=\"none\" stroke=\"#000000\" d=\"M144.003,-138.2595C152.1158,-140.513 161.1631,-143.0262 169.8131,-145.4289\"/>\n<polygon fill=\"#000000\" stroke=\"#000000\" points=\"169.1331,-148.8725 179.705,-148.1767 171.0066,-142.1279 169.1331,-148.8725\"/>\n</g>\n<!-- 7839700695147728128 -->\n<g id=\"node9\" class=\"node\">\n<title>7839700695147728128</title>\n<polygon fill=\"#e8e8e8\" stroke=\"#000000\" points=\"691,-68.7586 637,-68.7586 637,-32.7586 691,-32.7586 691,-68.7586\"/>\n<text text-anchor=\"start\" x=\"656\" y=\"-47.7586\" font-family=\"Times\" font-size=\"10.00\" fill=\"#000000\">FIR</text>\n</g>\n<!-- 12849032561983529069 -->\n<g id=\"node21\" class=\"node\">\n<title>12849032561983529069</title>\n<polygon fill=\"#e8e8e8\" stroke=\"#000000\" points=\"781,-122.7586 727,-122.7586 727,-86.7586 781,-86.7586 781,-122.7586\"/>\n<text text-anchor=\"start\" x=\"745\" y=\"-101.7586\" font-family=\"Times\" font-size=\"10.00\" fill=\"#000000\">Sum</text>\n</g>\n<!-- 7839700695147728128&#45;&gt;12849032561983529069 -->\n<g id=\"edge21\" class=\"edge\">\n<title>7839700695147728128&#45;&gt;12849032561983529069</title>\n<path fill=\"none\" stroke=\"#000000\" d=\"M691.003,-66.9604C699.4686,-72.0398 708.9516,-77.7296 717.9389,-83.122\"/>\n<polygon fill=\"#000000\" stroke=\"#000000\" points=\"716.3293,-86.2379 726.705,-88.3817 719.9308,-80.2354 716.3293,-86.2379\"/>\n</g>\n<!-- 4363829898667762705 -->\n<g id=\"node10\" class=\"node\">\n<title>4363829898667762705</title>\n<polygon fill=\"#e8e8e8\" stroke=\"#000000\" points=\"691,-122.7586 637,-122.7586 637,-86.7586 691,-86.7586 691,-122.7586\"/>\n<text text-anchor=\"start\" x=\"656\" y=\"-101.7586\" font-family=\"Times\" font-size=\"10.00\" fill=\"#000000\">FIR</text>\n</g>\n<!-- 4363829898667762705&#45;&gt;12849032561983529069 -->\n<g id=\"edge22\" class=\"edge\">\n<title>4363829898667762705&#45;&gt;12849032561983529069</title>\n<path fill=\"none\" stroke=\"#000000\" d=\"M691.003,-104.7586C699.0277,-104.7586 707.9665,-104.7586 716.5309,-104.7586\"/>\n<polygon fill=\"#000000\" stroke=\"#000000\" points=\"716.7051,-108.2587 726.705,-104.7586 716.705,-101.2587 716.7051,-108.2587\"/>\n</g>\n<!-- 15862501602662054162 -->\n<g id=\"node11\" class=\"node\">\n<title>15862501602662054162</title>\n<polygon fill=\"#e8e8e8\" stroke=\"#000000\" points=\"691,-181.7586 637,-181.7586 637,-145.7586 691,-145.7586 691,-181.7586\"/>\n<text text-anchor=\"start\" x=\"656\" y=\"-160.7586\" font-family=\"Times\" font-size=\"10.00\" fill=\"#000000\">FIR</text>\n</g>\n<!-- 15862501602662054162&#45;&gt;12849032561983529069 -->\n<g id=\"edge23\" class=\"edge\">\n<title>15862501602662054162&#45;&gt;12849032561983529069</title>\n<path fill=\"none\" stroke=\"#000000\" d=\"M691.003,-146.0567C699.5568,-140.4492 709.1493,-134.1608 718.2196,-128.2147\"/>\n<polygon fill=\"#000000\" stroke=\"#000000\" points=\"720.2608,-131.0617 726.705,-122.652 716.423,-125.2074 720.2608,-131.0617\"/>\n</g>\n<!-- 3971685902049717880 -->\n<g id=\"node12\" class=\"node\">\n<title>3971685902049717880</title>\n<polygon fill=\"#e8e8e8\" stroke=\"#000000\" points=\"511,-119.7586 457,-119.7586 457,-83.7586 511,-83.7586 511,-119.7586\"/>\n<text text-anchor=\"start\" x=\"465\" y=\"-98.7586\" font-family=\"Times\" font-size=\"10.00\" fill=\"#000000\">Abs&#45;Poly</text>\n</g>\n<!-- 8532668529911878369 -->\n<g id=\"node14\" class=\"node\">\n<title>8532668529911878369</title>\n<polygon fill=\"#e8e8e8\" stroke=\"#000000\" points=\"601,-122.7586 547,-122.7586 547,-86.7586 601,-86.7586 601,-122.7586\"/>\n<text text-anchor=\"start\" x=\"565\" y=\"-101.7586\" font-family=\"Times\" font-size=\"10.00\" fill=\"#000000\">Mul</text>\n</g>\n<!-- 3971685902049717880&#45;&gt;8532668529911878369 -->\n<g id=\"edge8\" class=\"edge\">\n<title>3971685902049717880&#45;&gt;8532668529911878369</title>\n<path fill=\"none\" stroke=\"#000000\" d=\"M511.003,-102.6587C519.0277,-102.9262 527.9665,-103.2242 536.5309,-103.5097\"/>\n<polygon fill=\"#000000\" stroke=\"#000000\" points=\"536.5939,-107.0136 546.705,-103.8488 536.8272,-100.0175 536.5939,-107.0136\"/>\n</g>\n<!-- 12167098068829146984 -->\n<g id=\"node13\" class=\"node\">\n<title>12167098068829146984</title>\n<polygon fill=\"#e8e8e8\" stroke=\"#000000\" points=\"511,-193.7586 457,-193.7586 457,-157.7586 511,-157.7586 511,-193.7586\"/>\n<text text-anchor=\"start\" x=\"465\" y=\"-172.7586\" font-family=\"Times\" font-size=\"10.00\" fill=\"#000000\">Abs&#45;Poly</text>\n</g>\n<!-- 3922216727500616961 -->\n<g id=\"node15\" class=\"node\">\n<title>3922216727500616961</title>\n<polygon fill=\"#e8e8e8\" stroke=\"#000000\" points=\"601,-183.7586 547,-183.7586 547,-147.7586 601,-147.7586 601,-183.7586\"/>\n<text text-anchor=\"start\" x=\"565\" y=\"-162.7586\" font-family=\"Times\" font-size=\"10.00\" fill=\"#000000\">Mul</text>\n</g>\n<!-- 12167098068829146984&#45;&gt;3922216727500616961 -->\n<g id=\"edge10\" class=\"edge\">\n<title>12167098068829146984&#45;&gt;3922216727500616961</title>\n<path fill=\"none\" stroke=\"#000000\" d=\"M511.003,-172.7583C519.0277,-171.8667 527.9665,-170.8735 536.5309,-169.9219\"/>\n<polygon fill=\"#000000\" stroke=\"#000000\" points=\"537.1527,-173.3744 546.705,-168.7914 536.3796,-166.4172 537.1527,-173.3744\"/>\n</g>\n<!-- 8532668529911878369&#45;&gt;4363829898667762705 -->\n<g id=\"edge9\" class=\"edge\">\n<title>8532668529911878369&#45;&gt;4363829898667762705</title>\n<path fill=\"none\" stroke=\"#000000\" d=\"M601.003,-104.7586C609.0277,-104.7586 617.9665,-104.7586 626.5309,-104.7586\"/>\n<polygon fill=\"#000000\" stroke=\"#000000\" points=\"626.7051,-108.2587 636.705,-104.7586 626.705,-101.2587 626.7051,-108.2587\"/>\n</g>\n<!-- 3922216727500616961&#45;&gt;15862501602662054162 -->\n<g id=\"edge11\" class=\"edge\">\n<title>3922216727500616961&#45;&gt;15862501602662054162</title>\n<path fill=\"none\" stroke=\"#000000\" d=\"M601.003,-165.1586C609.0277,-164.9802 617.9665,-164.7816 626.5309,-164.5913\"/>\n<polygon fill=\"#000000\" stroke=\"#000000\" points=\"626.7853,-168.0866 636.705,-164.3652 626.6297,-161.0883 626.7853,-168.0866\"/>\n</g>\n<!-- 4899149883439940615 -->\n<g id=\"node16\" class=\"node\">\n<title>4899149883439940615</title>\n<polygon fill=\"#e8e8e8\" stroke=\"#000000\" points=\"327.5,-123.7586 273.5,-123.7586 273.5,-87.7586 327.5,-87.7586 327.5,-123.7586\"/>\n<text text-anchor=\"start\" x=\"293.5\" y=\"-102.7586\" font-family=\"Times\" font-size=\"10.00\" fill=\"#000000\">CU</text>\n</g>\n<!-- 4899149883439940615&#45;&gt;12564466016696808647 -->\n<g id=\"edge14\" class=\"edge\">\n<title>4899149883439940615&#45;&gt;12564466016696808647</title>\n<path fill=\"none\" stroke=\"#000000\" d=\"M327.5441,-93.032C336.8628,-88.6467 347.4602,-83.6597 357.412,-78.9765\"/>\n<polygon fill=\"#000000\" stroke=\"#000000\" points=\"359.1349,-82.034 366.6928,-74.6091 356.1543,-75.7002 359.1349,-82.034\"/>\n</g>\n<!-- 15933504055761077176 -->\n<g id=\"node17\" class=\"node\">\n<title>15933504055761077176</title>\n<polygon fill=\"#e8e8e8\" stroke=\"#000000\" points=\"327.5,-177.7586 273.5,-177.7586 273.5,-141.7586 327.5,-141.7586 327.5,-177.7586\"/>\n<text text-anchor=\"start\" x=\"293.5\" y=\"-156.7586\" font-family=\"Times\" font-size=\"10.00\" fill=\"#000000\">CU</text>\n</g>\n<!-- 15933504055761077176&#45;&gt;15990355866543088094 -->\n<g id=\"edge18\" class=\"edge\">\n<title>15933504055761077176&#45;&gt;15990355866543088094</title>\n<path fill=\"none\" stroke=\"#000000\" d=\"M327.5441,-167.5682C336.6707,-170.2036 347.0237,-173.1933 356.7956,-176.0151\"/>\n<polygon fill=\"#000000\" stroke=\"#000000\" points=\"356.1143,-179.4613 366.6928,-178.8731 358.0564,-172.7361 356.1143,-179.4613\"/>\n</g>\n<!-- 12564466016696808647&#45;&gt;3971685902049717880 -->\n<g id=\"edge15\" class=\"edge\">\n<title>12564466016696808647&#45;&gt;3971685902049717880</title>\n<path fill=\"none\" stroke=\"#000000\" d=\"M421.003,-73.76C429.2922,-77.4441 438.5569,-81.5617 447.3766,-85.4816\"/>\n<polygon fill=\"#000000\" stroke=\"#000000\" points=\"446.1454,-88.7644 456.705,-89.6275 448.9884,-82.3677 446.1454,-88.7644\"/>\n</g>\n<!-- 15990355866543088094&#45;&gt;12167098068829146984 -->\n<g id=\"edge19\" class=\"edge\">\n<title>15990355866543088094&#45;&gt;12167098068829146984</title>\n<path fill=\"none\" stroke=\"#000000\" d=\"M421.003,-183.4583C429.0277,-182.4775 437.9665,-181.3849 446.5309,-180.3382\"/>\n<polygon fill=\"#000000\" stroke=\"#000000\" points=\"447.2035,-183.7821 456.705,-179.0947 446.3542,-176.8338 447.2035,-183.7821\"/>\n</g>\n<!-- 5798869509677880648 -->\n<g id=\"node20\" class=\"node\">\n<title>5798869509677880648</title>\n<polygon fill=\"#e8e8e8\" stroke=\"#000000\" points=\"601,-68.7586 547,-68.7586 547,-32.7586 601,-32.7586 601,-68.7586\"/>\n<text text-anchor=\"start\" x=\"562\" y=\"-47.7586\" font-family=\"Times\" font-size=\"10.00\" fill=\"#000000\">Delay</text>\n</g>\n<!-- 5798869509677880648&#45;&gt;7839700695147728128 -->\n<g id=\"edge20\" class=\"edge\">\n<title>5798869509677880648&#45;&gt;7839700695147728128</title>\n<path fill=\"none\" stroke=\"#000000\" d=\"M601.003,-50.7586C609.0277,-50.7586 617.9665,-50.7586 626.5309,-50.7586\"/>\n<polygon fill=\"#000000\" stroke=\"#000000\" points=\"626.7051,-54.2587 636.705,-50.7586 626.705,-47.2587 626.7051,-54.2587\"/>\n</g>\n</g>\n</svg>\n"
          },
          "metadata": {
            "tags": []
          },
          "execution_count": 31
        }
      ]
    },
    {
      "cell_type": "code",
      "metadata": {
        "id": "hRrmwrZ030hb",
        "colab_type": "code",
        "colab": {}
      },
      "source": [
        "net = Sasha_Cell_apd(D1=const9, D2=const10)\n",
        "# net\n",
        "net=net.to(\"cuda:0\")\n",
        "\n",
        "hl.build_graph(net, Variable(torch.zeros([1,2,100]).double().cuda()),transforms=transforms)"
      ],
      "execution_count": null,
      "outputs": []
    },
    {
      "cell_type": "code",
      "metadata": {
        "id": "L0-r4DS4_w_G",
        "colab_type": "code",
        "colab": {}
      },
      "source": [
        "optimizer = torch.optim.Adam(net.parameters(), lr=1e-2)\n",
        "scheduler = torch.optim.lr_scheduler.StepLR(optimizer, step_size=step_size, gamma=1)\n",
        "hist5 = train(train_queue, valid_queue, net, loss_fn, optimizer,30,scheduler,save_flag=False)"
      ],
      "execution_count": null,
      "outputs": []
    },
    {
      "cell_type": "code",
      "metadata": {
        "id": "nZA0Uxou_xvH",
        "colab_type": "code",
        "colab": {}
      },
      "source": [
        "net = Sasha_Cell_apd(D1=const11, D2=const12)\n",
        "# net\n",
        "net=net.to(\"cuda:0\")\n",
        "optimizer = torch.optim.Adam(net.parameters(), lr=1e-2)\n",
        "scheduler = torch.optim.lr_scheduler.StepLR(optimizer, step_size=step_size, gamma=1)\n",
        "hist6 = train(train_queue, valid_queue, net, loss_fn, optimizer,30,scheduler,save_flag=False)"
      ],
      "execution_count": null,
      "outputs": []
    },
    {
      "cell_type": "code",
      "metadata": {
        "id": "0Gv1_SYL_ykx",
        "colab_type": "code",
        "colab": {}
      },
      "source": [
        "net = Sasha_Cell_apd(D1=const13, D2=const14)\n",
        "# net\n",
        "net=net.to(\"cuda:0\")\n",
        "optimizer = torch.optim.Adam(net.parameters(), lr=1e-2)\n",
        "scheduler = torch.optim.lr_scheduler.StepLR(optimizer, step_size=step_size, gamma=1)\n",
        "hist7 = train(train_queue, valid_queue, net, loss_fn, optimizer,30,scheduler,save_flag=False)"
      ],
      "execution_count": null,
      "outputs": []
    },
    {
      "cell_type": "code",
      "metadata": {
        "id": "erSM-X3Bs6Zv",
        "colab_type": "code",
        "colab": {}
      },
      "source": [
        "def Comparison_results(hist1, hist2, number, const1, const2):\n",
        "    print(\"number =\", number, \"   delays:\", const1, const2)\n",
        "    fig, ax = plt.subplots()\n",
        "    ax.plot(hist1['iter'], hist1['train_loss_db'], label='Maslovski')\n",
        "    ax.plot(hist2['iter'], hist2['train_loss_db'], label='Bred')\n",
        "    ax.set_xlabel('iter')\n",
        "    ax.set_ylabel('accuracy, dbs')\n",
        "    plt.title('Comparison of two types of cells: iter')\n",
        "    ax.legend()\n",
        "    plt.show()\n",
        "\n",
        "    fig, ax = plt.subplots()\n",
        "    ax.plot(hist1['time'], hist1['train_loss_db'], label='Maslovski')\n",
        "    ax.plot(hist2['time'], hist2['train_loss_db'], label='Bred')\n",
        "    ax.set_xlabel('time')\n",
        "    ax.set_ylabel('accuracy, dbs')\n",
        "    plt.title('Comparison of two types of cells: time')\n",
        "    ax.legend()\n",
        "    plt.show()\n",
        "\n",
        "    \n"
      ],
      "execution_count": null,
      "outputs": []
    },
    {
      "cell_type": "code",
      "metadata": {
        "id": "Cz1dLyKYHWyr",
        "colab_type": "code",
        "colab": {}
      },
      "source": [
        "def Comparison_best_res(hist1, hist2, hist3):\n",
        "    #print(\"M_delays =\", m)\n",
        "    #print(\"Br_delays =\", b1, b2)\n",
        "    #print(\"Ol_delays =\", ol)\n",
        "    fig, ax = plt.subplots()\n",
        "    ax.plot(hist1['iter'], hist1['train_loss_db'], label='Ol_v1')\n",
        "    ax.plot(hist2['iter'], hist2['train_loss_db'], label='Masl_poly10')\n",
        "    ax.plot(hist3['iter'], hist3['train_loss_db'], label='Masl_upd')\n",
        "    ax.set_xlabel('iter')\n",
        "    ax.set_ylabel('accuracy, dbs')\n",
        "    plt.title('Comparison of three types of cells: iter')\n",
        "    ax.legend()\n",
        "    plt.show()\n",
        "\n",
        "    fig, ax = plt.subplots()\n",
        "    ax.plot(hist1['time'], hist1['train_loss_db'], label='Ol_v1')\n",
        "    ax.plot(hist2['time'], hist2['train_loss_db'], label='Masl_poly10')\n",
        "    ax.plot(hist3['time'], hist3['train_loss_db'], label='Masl_upd')\n",
        "    ax.set_xlabel('time')\n",
        "    ax.set_ylabel('accuracy, dbs')\n",
        "    plt.title('Comparison of three types of cells: time')\n",
        "    ax.legend()\n",
        "    plt.show()"
      ],
      "execution_count": null,
      "outputs": []
    },
    {
      "cell_type": "code",
      "metadata": {
        "id": "8LEFitcLn9D3",
        "colab_type": "code",
        "colab": {}
      },
      "source": [
        "Comparison_results(hist, hist1, 1, const1, const2)"
      ],
      "execution_count": null,
      "outputs": []
    },
    {
      "cell_type": "code",
      "metadata": {
        "id": "CD0cQ2Po_ZZW",
        "colab_type": "code",
        "colab": {}
      },
      "source": [
        "Comparison_results(hist, hist2, 2, const3, const4)"
      ],
      "execution_count": null,
      "outputs": []
    },
    {
      "cell_type": "code",
      "metadata": {
        "id": "wgGwu5wO_af_",
        "colab_type": "code",
        "colab": {}
      },
      "source": [
        "Comparison_results(hist, hist3, 3, const5, const6)"
      ],
      "execution_count": null,
      "outputs": []
    },
    {
      "cell_type": "code",
      "metadata": {
        "id": "LjTPvjYJ_c9X",
        "colab_type": "code",
        "colab": {}
      },
      "source": [
        "Comparison_results(hist, hist4, 4, const7, const8)"
      ],
      "execution_count": null,
      "outputs": []
    },
    {
      "cell_type": "code",
      "metadata": {
        "id": "BGLr6Ybg_cUe",
        "colab_type": "code",
        "colab": {}
      },
      "source": [
        "Comparison_results(hist, hist5, 5, const9, const10)"
      ],
      "execution_count": null,
      "outputs": []
    },
    {
      "cell_type": "code",
      "metadata": {
        "id": "KERu51PX_b0b",
        "colab_type": "code",
        "colab": {}
      },
      "source": [
        "Comparison_results(hist, hist6, 6, const11, const12)"
      ],
      "execution_count": null,
      "outputs": []
    },
    {
      "cell_type": "code",
      "metadata": {
        "id": "KvJNYTqb_bNo",
        "colab_type": "code",
        "colab": {}
      },
      "source": [
        "Comparison_results(hist, hist7, 7, const13, const14)"
      ],
      "execution_count": null,
      "outputs": []
    },
    {
      "cell_type": "code",
      "metadata": {
        "id": "7w1MDrtOF8uS",
        "colab_type": "code",
        "colab": {}
      },
      "source": [
        "net = Sasha_Cell_apd(D1=const3, D2=const4)\n",
        "# net\n",
        "net=net.to(\"cuda:0\")\n",
        "optimizer = torch.optim.Adam(net.parameters(), lr=1e-2)\n",
        "scheduler = torch.optim.lr_scheduler.StepLR(optimizer, step_size=step_size, gamma=1)\n",
        "hist9 = train(train_queue, valid_queue, net, loss_fn, optimizer,80,scheduler,save_flag=False)"
      ],
      "execution_count": null,
      "outputs": []
    },
    {
      "cell_type": "code",
      "metadata": {
        "id": "T9AUAMvz_OiL",
        "colab_type": "code",
        "colab": {
          "base_uri": "https://localhost:8080/",
          "height": 342
        },
        "outputId": "e882b16f-ff93-4685-f710-d7bb083f8b29"
      },
      "source": [
        "net = Cell(D=0)\n",
        "# net\n",
        "net=net.to(\"cuda:0\")\n",
        "\n",
        "hl.build_graph(net, Variable(torch.zeros([1,2,100]).double().cuda()),transforms=transforms)"
      ],
      "execution_count": 27,
      "outputs": [
        {
          "output_type": "stream",
          "text": [
            "/content/DPDBlocks/blocks.py:38: TracerWarning: Converting a tensor to a Python index might cause the trace to be incorrect. We can't record the data flow of Python values, so this value will be treated as a constant in the future. This means that the trace might not generalize to other inputs!\n",
            "  return self.op(x)[:,:,:x.shape[2]] if self.M>0 else self.op(x)[:,:,-x.shape[2]:]\n"
          ],
          "name": "stderr"
        },
        {
          "output_type": "execute_result",
          "data": {
            "text/plain": [
              "<hiddenlayer.graph.Graph at 0x7f70815edd68>"
            ],
            "image/svg+xml": "<?xml version=\"1.0\" encoding=\"UTF-8\" standalone=\"no\"?>\n<!DOCTYPE svg PUBLIC \"-//W3C//DTD SVG 1.1//EN\"\n \"http://www.w3.org/Graphics/SVG/1.1/DTD/svg11.dtd\">\n<!-- Generated by graphviz version 2.40.1 (20161225.0304)\n -->\n<!-- Title: %3 Pages: 1 -->\n<svg width=\"835pt\" height=\"200pt\"\n viewBox=\"0.00 0.00 835.00 200.00\" xmlns=\"http://www.w3.org/2000/svg\" xmlns:xlink=\"http://www.w3.org/1999/xlink\">\n<g id=\"graph0\" class=\"graph\" transform=\"scale(1 1) rotate(0) translate(72 164)\">\n<title>%3</title>\n<polygon fill=\"#ffffff\" stroke=\"transparent\" points=\"-72,36 -72,-164 763,-164 763,36 -72,36\"/>\n<!-- /outputs/6 -->\n<g id=\"node1\" class=\"node\">\n<title>/outputs/6</title>\n<polygon fill=\"#e8e8e8\" stroke=\"#000000\" points=\"54,-105 0,-105 0,-69 54,-69 54,-105\"/>\n<text text-anchor=\"start\" x=\"19\" y=\"-84\" font-family=\"Times\" font-size=\"10.00\" fill=\"#000000\">Pad</text>\n</g>\n<!-- 8863226199855628938 -->\n<g id=\"node4\" class=\"node\">\n<title>8863226199855628938</title>\n<polygon fill=\"#e8e8e8\" stroke=\"#000000\" points=\"144,-128 90,-128 90,-92 144,-92 144,-128\"/>\n<text text-anchor=\"start\" x=\"105\" y=\"-107\" font-family=\"Times\" font-size=\"10.00\" fill=\"#000000\">S_CG</text>\n</g>\n<!-- /outputs/6&#45;&gt;8863226199855628938 -->\n<g id=\"edge2\" class=\"edge\">\n<title>/outputs/6&#45;&gt;8863226199855628938</title>\n<path fill=\"none\" stroke=\"#000000\" d=\"M54.003,-93.9008C62.1158,-95.9741 71.1631,-98.2861 79.8131,-100.4967\"/>\n<polygon fill=\"#000000\" stroke=\"#000000\" points=\"79.1498,-103.9396 89.705,-103.0246 80.883,-97.1575 79.1498,-103.9396\"/>\n</g>\n<!-- 3056356357175089846 -->\n<g id=\"node10\" class=\"node\">\n<title>3056356357175089846</title>\n<polygon fill=\"#e8e8e8\" stroke=\"#000000\" points=\"421,-82 367,-82 367,-46 421,-46 421,-82\"/>\n<text text-anchor=\"start\" x=\"379\" y=\"-61\" font-family=\"Times\" font-size=\"10.00\" fill=\"#000000\">CU_DS</text>\n</g>\n<!-- /outputs/6&#45;&gt;3056356357175089846 -->\n<g id=\"edge7\" class=\"edge\">\n<title>/outputs/6&#45;&gt;3056356357175089846</title>\n<path fill=\"none\" stroke=\"#000000\" d=\"M54.2884,-85.2615C65.3704,-84.557 78.2965,-83.7373 90,-83 186.1381,-76.9437 299.3833,-69.886 356.7119,-66.3186\"/>\n<polygon fill=\"#000000\" stroke=\"#000000\" points=\"356.9856,-69.8084 366.7489,-65.6941 356.5509,-62.8219 356.9856,-69.8084\"/>\n</g>\n<!-- /outputs/10 -->\n<g id=\"node2\" class=\"node\">\n<title>/outputs/10</title>\n<polygon fill=\"#e8e8e8\" stroke=\"#000000\" points=\"234,-128 180,-128 180,-92 234,-92 234,-128\"/>\n<text text-anchor=\"start\" x=\"199\" y=\"-107\" font-family=\"Times\" font-size=\"10.00\" fill=\"#000000\">Neg</text>\n</g>\n<!-- /outputs/13 -->\n<g id=\"node3\" class=\"node\">\n<title>/outputs/13</title>\n<polygon fill=\"#e8e8e8\" stroke=\"#000000\" points=\"331,-128 270,-128 270,-92 331,-92 331,-128\"/>\n<text text-anchor=\"start\" x=\"278.5\" y=\"-107\" font-family=\"Times\" font-size=\"10.00\" fill=\"#000000\">Unsqueeze</text>\n</g>\n<!-- /outputs/10&#45;&gt;/outputs/13 -->\n<g id=\"edge1\" class=\"edge\">\n<title>/outputs/10&#45;&gt;/outputs/13</title>\n<path fill=\"none\" stroke=\"#000000\" d=\"M234.0441,-110C242.1072,-110 251.1275,-110 259.8587,-110\"/>\n<polygon fill=\"#000000\" stroke=\"#000000\" points=\"259.9008,-113.5001 269.9008,-110 259.9007,-106.5001 259.9008,-113.5001\"/>\n</g>\n<!-- /outputs/13&#45;&gt;3056356357175089846 -->\n<g id=\"edge8\" class=\"edge\">\n<title>/outputs/13&#45;&gt;3056356357175089846</title>\n<path fill=\"none\" stroke=\"#000000\" d=\"M331.1154,-94.9379C339.5636,-90.7816 348.813,-86.231 357.5563,-81.9295\"/>\n<polygon fill=\"#000000\" stroke=\"#000000\" points=\"359.3554,-84.9451 366.7832,-77.3901 356.2652,-78.6641 359.3554,-84.9451\"/>\n</g>\n<!-- 8863226199855628938&#45;&gt;/outputs/10 -->\n<g id=\"edge3\" class=\"edge\">\n<title>8863226199855628938&#45;&gt;/outputs/10</title>\n<path fill=\"none\" stroke=\"#000000\" d=\"M144.003,-110C152.0277,-110 160.9665,-110 169.5309,-110\"/>\n<polygon fill=\"#000000\" stroke=\"#000000\" points=\"169.7051,-113.5001 179.705,-110 169.705,-106.5001 169.7051,-113.5001\"/>\n</g>\n<!-- 11494427384896741480 -->\n<g id=\"node5\" class=\"node\">\n<title>11494427384896741480</title>\n<polygon fill=\"#e8e8e8\" stroke=\"#000000\" points=\"601,-109 547,-109 547,-73 601,-73 601,-109\"/>\n<text text-anchor=\"start\" x=\"566\" y=\"-88\" font-family=\"Times\" font-size=\"10.00\" fill=\"#000000\">FIR</text>\n</g>\n<!-- 12828379099020654081 -->\n<g id=\"node8\" class=\"node\">\n<title>12828379099020654081</title>\n<polygon fill=\"#e8e8e8\" stroke=\"#000000\" points=\"691,-82 637,-82 637,-46 691,-46 691,-82\"/>\n<text text-anchor=\"start\" x=\"655\" y=\"-61\" font-family=\"Times\" font-size=\"10.00\" fill=\"#000000\">Mul</text>\n</g>\n<!-- 11494427384896741480&#45;&gt;12828379099020654081 -->\n<g id=\"edge6\" class=\"edge\">\n<title>11494427384896741480&#45;&gt;12828379099020654081</title>\n<path fill=\"none\" stroke=\"#000000\" d=\"M601.003,-82.8991C609.204,-80.4388 618.3599,-77.692 627.095,-75.0715\"/>\n<polygon fill=\"#000000\" stroke=\"#000000\" points=\"628.1325,-78.4144 636.705,-72.1885 626.121,-71.7096 628.1325,-78.4144\"/>\n</g>\n<!-- 2741655425438481523 -->\n<g id=\"node6\" class=\"node\">\n<title>2741655425438481523</title>\n<polygon fill=\"#e8e8e8\" stroke=\"#000000\" points=\"601,-55 547,-55 547,-19 601,-19 601,-55\"/>\n<text text-anchor=\"start\" x=\"566\" y=\"-34\" font-family=\"Times\" font-size=\"10.00\" fill=\"#000000\">FIR</text>\n</g>\n<!-- 2741655425438481523&#45;&gt;12828379099020654081 -->\n<g id=\"edge5\" class=\"edge\">\n<title>2741655425438481523&#45;&gt;12828379099020654081</title>\n<path fill=\"none\" stroke=\"#000000\" d=\"M601.003,-45.1009C609.204,-47.5612 618.3599,-50.308 627.095,-52.9285\"/>\n<polygon fill=\"#000000\" stroke=\"#000000\" points=\"626.121,-56.2904 636.705,-55.8115 628.1325,-49.5856 626.121,-56.2904\"/>\n</g>\n<!-- 13803526165187684471 -->\n<g id=\"node7\" class=\"node\">\n<title>13803526165187684471</title>\n<polygon fill=\"#e8e8e8\" stroke=\"#000000\" points=\"511,-59 457,-59 457,-23 511,-23 511,-59\"/>\n<text text-anchor=\"start\" x=\"465\" y=\"-38\" font-family=\"Times\" font-size=\"10.00\" fill=\"#000000\">Abs&#45;Poly</text>\n</g>\n<!-- 13803526165187684471&#45;&gt;2741655425438481523 -->\n<g id=\"edge4\" class=\"edge\">\n<title>13803526165187684471&#45;&gt;2741655425438481523</title>\n<path fill=\"none\" stroke=\"#000000\" d=\"M511.003,-39.7999C519.0277,-39.4432 527.9665,-39.0459 536.5309,-38.6653\"/>\n<polygon fill=\"#000000\" stroke=\"#000000\" points=\"536.8703,-42.1538 546.705,-38.2131 536.5595,-35.1607 536.8703,-42.1538\"/>\n</g>\n<!-- 8674793240698777555 -->\n<g id=\"node9\" class=\"node\">\n<title>8674793240698777555</title>\n<polygon fill=\"#e8e8e8\" stroke=\"#000000\" points=\"327.5,-36 273.5,-36 273.5,0 327.5,0 327.5,-36\"/>\n<text text-anchor=\"start\" x=\"293.5\" y=\"-15\" font-family=\"Times\" font-size=\"10.00\" fill=\"#000000\">CU</text>\n</g>\n<!-- 8674793240698777555&#45;&gt;3056356357175089846 -->\n<g id=\"edge9\" class=\"edge\">\n<title>8674793240698777555&#45;&gt;3056356357175089846</title>\n<path fill=\"none\" stroke=\"#000000\" d=\"M327.5441,-31.3051C336.9589,-35.937 347.6788,-41.211 357.7196,-46.1508\"/>\n<polygon fill=\"#000000\" stroke=\"#000000\" points=\"356.1748,-49.2914 366.6928,-50.5654 359.265,-43.0104 356.1748,-49.2914\"/>\n</g>\n<!-- 3056356357175089846&#45;&gt;11494427384896741480 -->\n<g id=\"edge10\" class=\"edge\">\n<title>3056356357175089846&#45;&gt;11494427384896741480</title>\n<path fill=\"none\" stroke=\"#000000\" d=\"M421.3381,-68.1007C452.1765,-72.7265 502.5008,-80.2751 536.8771,-85.4316\"/>\n<polygon fill=\"#000000\" stroke=\"#000000\" points=\"536.5858,-88.9269 546.9944,-86.9492 537.6242,-82.0044 536.5858,-88.9269\"/>\n</g>\n<!-- 3056356357175089846&#45;&gt;13803526165187684471 -->\n<g id=\"edge11\" class=\"edge\">\n<title>3056356357175089846&#45;&gt;13803526165187684471</title>\n<path fill=\"none\" stroke=\"#000000\" d=\"M421.003,-57.0992C429.1158,-55.0259 438.1631,-52.7139 446.8131,-50.5033\"/>\n<polygon fill=\"#000000\" stroke=\"#000000\" points=\"447.883,-53.8425 456.705,-47.9754 446.1498,-47.0604 447.883,-53.8425\"/>\n</g>\n</g>\n</svg>\n"
          },
          "metadata": {
            "tags": []
          },
          "execution_count": 27
        }
      ]
    },
    {
      "cell_type": "code",
      "metadata": {
        "id": "i8pyAC6n4b8a",
        "colab_type": "code",
        "colab": {
          "base_uri": "https://localhost:8080/",
          "height": 362
        },
        "outputId": "300e439f-b2b3-4b32-b6e3-4e0b97fedcd8"
      },
      "source": [
        "net = Olga_Cell(D=2)\n",
        "# net\n",
        "net=net.to(\"cuda:0\")\n",
        "\n",
        "hl.build_graph(net, Variable(torch.zeros([1,2,100]).double().cuda()),transforms=transforms)"
      ],
      "execution_count": 24,
      "outputs": [
        {
          "output_type": "stream",
          "text": [
            "/content/DPDBlocks/blocks.py:38: TracerWarning: Converting a tensor to a Python index might cause the trace to be incorrect. We can't record the data flow of Python values, so this value will be treated as a constant in the future. This means that the trace might not generalize to other inputs!\n",
            "  return self.op(x)[:,:,:x.shape[2]] if self.M>0 else self.op(x)[:,:,-x.shape[2]:]\n"
          ],
          "name": "stderr"
        },
        {
          "output_type": "execute_result",
          "data": {
            "text/plain": [
              "<hiddenlayer.graph.Graph at 0x7f70366440b8>"
            ],
            "image/svg+xml": "<?xml version=\"1.0\" encoding=\"UTF-8\" standalone=\"no\"?>\n<!DOCTYPE svg PUBLIC \"-//W3C//DTD SVG 1.1//EN\"\n \"http://www.w3.org/Graphics/SVG/1.1/DTD/svg11.dtd\">\n<!-- Generated by graphviz version 2.40.1 (20161225.0304)\n -->\n<!-- Title: %3 Pages: 1 -->\n<svg width=\"468pt\" height=\"216pt\"\n viewBox=\"0.00 0.00 468.00 216.00\" xmlns=\"http://www.w3.org/2000/svg\" xmlns:xlink=\"http://www.w3.org/1999/xlink\">\n<g id=\"graph0\" class=\"graph\" transform=\"scale(1 1) rotate(0) translate(72 180)\">\n<title>%3</title>\n<polygon fill=\"#ffffff\" stroke=\"transparent\" points=\"-72,36 -72,-180 396,-180 396,36 -72,36\"/>\n<!-- 2895218410325644408 -->\n<g id=\"node1\" class=\"node\">\n<title>2895218410325644408</title>\n<polygon fill=\"#e8e8e8\" stroke=\"#000000\" points=\"234,-36 180,-36 180,0 234,0 234,-36\"/>\n<text text-anchor=\"start\" x=\"199\" y=\"-15\" font-family=\"Times\" font-size=\"10.00\" fill=\"#000000\">FIR</text>\n</g>\n<!-- 11310029905732905628 -->\n<g id=\"node9\" class=\"node\">\n<title>11310029905732905628</title>\n<polygon fill=\"#e8e8e8\" stroke=\"#000000\" points=\"324,-90 270,-90 270,-54 324,-54 324,-90\"/>\n<text text-anchor=\"start\" x=\"288\" y=\"-69\" font-family=\"Times\" font-size=\"10.00\" fill=\"#000000\">Sum</text>\n</g>\n<!-- 2895218410325644408&#45;&gt;11310029905732905628 -->\n<g id=\"edge6\" class=\"edge\">\n<title>2895218410325644408&#45;&gt;11310029905732905628</title>\n<path fill=\"none\" stroke=\"#000000\" d=\"M234.003,-34.2018C242.4686,-39.2812 251.9516,-44.971 260.9389,-50.3634\"/>\n<polygon fill=\"#000000\" stroke=\"#000000\" points=\"259.3293,-53.4792 269.705,-55.623 262.9308,-47.4768 259.3293,-53.4792\"/>\n</g>\n<!-- 14790884565328193208 -->\n<g id=\"node2\" class=\"node\">\n<title>14790884565328193208</title>\n<polygon fill=\"#e8e8e8\" stroke=\"#000000\" points=\"234,-144 180,-144 180,-108 234,-108 234,-144\"/>\n<text text-anchor=\"start\" x=\"199\" y=\"-123\" font-family=\"Times\" font-size=\"10.00\" fill=\"#000000\">FIR</text>\n</g>\n<!-- 14790884565328193208&#45;&gt;11310029905732905628 -->\n<g id=\"edge7\" class=\"edge\">\n<title>14790884565328193208&#45;&gt;11310029905732905628</title>\n<path fill=\"none\" stroke=\"#000000\" d=\"M234.003,-109.7982C242.4686,-104.7188 251.9516,-99.029 260.9389,-93.6366\"/>\n<polygon fill=\"#000000\" stroke=\"#000000\" points=\"262.9308,-96.5232 269.705,-88.377 259.3293,-90.5208 262.9308,-96.5232\"/>\n</g>\n<!-- 8222976674621174410 -->\n<g id=\"node3\" class=\"node\">\n<title>8222976674621174410</title>\n<polygon fill=\"#e8e8e8\" stroke=\"#000000\" points=\"234,-90 180,-90 180,-54 234,-54 234,-90\"/>\n<text text-anchor=\"start\" x=\"199\" y=\"-69\" font-family=\"Times\" font-size=\"10.00\" fill=\"#000000\">FIR</text>\n</g>\n<!-- 8222976674621174410&#45;&gt;11310029905732905628 -->\n<g id=\"edge8\" class=\"edge\">\n<title>8222976674621174410&#45;&gt;11310029905732905628</title>\n<path fill=\"none\" stroke=\"#000000\" d=\"M234.003,-72C242.0277,-72 250.9665,-72 259.5309,-72\"/>\n<polygon fill=\"#000000\" stroke=\"#000000\" points=\"259.7051,-75.5001 269.705,-72 259.705,-68.5001 259.7051,-75.5001\"/>\n</g>\n<!-- 8456406096298067138 -->\n<g id=\"node4\" class=\"node\">\n<title>8456406096298067138</title>\n<polygon fill=\"#e8e8e8\" stroke=\"#000000\" points=\"54,-144 0,-144 0,-108 54,-108 54,-144\"/>\n<text text-anchor=\"start\" x=\"8\" y=\"-123\" font-family=\"Times\" font-size=\"10.00\" fill=\"#000000\">Abs&#45;Poly</text>\n</g>\n<!-- 14145244514959920510 -->\n<g id=\"node6\" class=\"node\">\n<title>14145244514959920510</title>\n<polygon fill=\"#e8e8e8\" stroke=\"#000000\" points=\"144,-144 90,-144 90,-108 144,-108 144,-144\"/>\n<text text-anchor=\"start\" x=\"108\" y=\"-123\" font-family=\"Times\" font-size=\"10.00\" fill=\"#000000\">Mul</text>\n</g>\n<!-- 8456406096298067138&#45;&gt;14145244514959920510 -->\n<g id=\"edge1\" class=\"edge\">\n<title>8456406096298067138&#45;&gt;14145244514959920510</title>\n<path fill=\"none\" stroke=\"#000000\" d=\"M54.003,-126C62.0277,-126 70.9665,-126 79.5309,-126\"/>\n<polygon fill=\"#000000\" stroke=\"#000000\" points=\"79.7051,-129.5001 89.705,-126 79.705,-122.5001 79.7051,-129.5001\"/>\n</g>\n<!-- 2981182132075064760 -->\n<g id=\"node5\" class=\"node\">\n<title>2981182132075064760</title>\n<polygon fill=\"#e8e8e8\" stroke=\"#000000\" points=\"54,-90 0,-90 0,-54 54,-54 54,-90\"/>\n<text text-anchor=\"start\" x=\"8\" y=\"-69\" font-family=\"Times\" font-size=\"10.00\" fill=\"#000000\">Abs&#45;Poly</text>\n</g>\n<!-- 10396594235565781762 -->\n<g id=\"node7\" class=\"node\">\n<title>10396594235565781762</title>\n<polygon fill=\"#e8e8e8\" stroke=\"#000000\" points=\"144,-90 90,-90 90,-54 144,-54 144,-90\"/>\n<text text-anchor=\"start\" x=\"108\" y=\"-69\" font-family=\"Times\" font-size=\"10.00\" fill=\"#000000\">Mul</text>\n</g>\n<!-- 2981182132075064760&#45;&gt;10396594235565781762 -->\n<g id=\"edge3\" class=\"edge\">\n<title>2981182132075064760&#45;&gt;10396594235565781762</title>\n<path fill=\"none\" stroke=\"#000000\" d=\"M54.003,-72C62.0277,-72 70.9665,-72 79.5309,-72\"/>\n<polygon fill=\"#000000\" stroke=\"#000000\" points=\"79.7051,-75.5001 89.705,-72 79.705,-68.5001 79.7051,-75.5001\"/>\n</g>\n<!-- 14145244514959920510&#45;&gt;14790884565328193208 -->\n<g id=\"edge2\" class=\"edge\">\n<title>14145244514959920510&#45;&gt;14790884565328193208</title>\n<path fill=\"none\" stroke=\"#000000\" d=\"M144.003,-126C152.0277,-126 160.9665,-126 169.5309,-126\"/>\n<polygon fill=\"#000000\" stroke=\"#000000\" points=\"169.7051,-129.5001 179.705,-126 169.705,-122.5001 169.7051,-129.5001\"/>\n</g>\n<!-- 10396594235565781762&#45;&gt;8222976674621174410 -->\n<g id=\"edge4\" class=\"edge\">\n<title>10396594235565781762&#45;&gt;8222976674621174410</title>\n<path fill=\"none\" stroke=\"#000000\" d=\"M144.003,-72C152.0277,-72 160.9665,-72 169.5309,-72\"/>\n<polygon fill=\"#000000\" stroke=\"#000000\" points=\"169.7051,-75.5001 179.705,-72 169.705,-68.5001 169.7051,-75.5001\"/>\n</g>\n<!-- 3537729383188233517 -->\n<g id=\"node8\" class=\"node\">\n<title>3537729383188233517</title>\n<polygon fill=\"#e8e8e8\" stroke=\"#000000\" points=\"144,-36 90,-36 90,0 144,0 144,-36\"/>\n<text text-anchor=\"start\" x=\"105\" y=\"-15\" font-family=\"Times\" font-size=\"10.00\" fill=\"#000000\">Delay</text>\n</g>\n<!-- 3537729383188233517&#45;&gt;2895218410325644408 -->\n<g id=\"edge5\" class=\"edge\">\n<title>3537729383188233517&#45;&gt;2895218410325644408</title>\n<path fill=\"none\" stroke=\"#000000\" d=\"M144.003,-18C152.0277,-18 160.9665,-18 169.5309,-18\"/>\n<polygon fill=\"#000000\" stroke=\"#000000\" points=\"169.7051,-21.5001 179.705,-18 169.705,-14.5001 169.7051,-21.5001\"/>\n</g>\n</g>\n</svg>\n"
          },
          "metadata": {
            "tags": []
          },
          "execution_count": 24
        }
      ]
    },
    {
      "cell_type": "code",
      "metadata": {
        "id": "2BorjT_4GsnU",
        "colab_type": "code",
        "colab": {}
      },
      "source": [
        "optimizer = torch.optim.Adam(net.parameters(), lr=1e-2)\n",
        "scheduler = torch.optim.lr_scheduler.StepLR(optimizer, step_size=step_size, gamma=1)\n",
        "hist10 = train(train_queue, valid_queue, net, loss_fn, optimizer,100,scheduler,save_flag=False)"
      ],
      "execution_count": null,
      "outputs": []
    },
    {
      "cell_type": "code",
      "metadata": {
        "id": "yagnzz2KyWzs",
        "colab_type": "code",
        "colab": {}
      },
      "source": [
        "Comparison_best_res(hist8, hist9, hist10, 0, const3, const4, 2)"
      ],
      "execution_count": null,
      "outputs": []
    },
    {
      "cell_type": "code",
      "metadata": {
        "id": "6foHQOj_6zDA",
        "colab_type": "code",
        "colab": {}
      },
      "source": [
        "net = Olga_Cell(D=0)\n",
        "# net\n",
        "net=net.to(\"cuda:0\")\n",
        "\n",
        "hl.build_graph(net, Variable(torch.zeros([1,2,100]).double().cuda()),transforms=transforms)"
      ],
      "execution_count": null,
      "outputs": []
    },
    {
      "cell_type": "code",
      "metadata": {
        "id": "9dv-LsirLhFP",
        "colab_type": "code",
        "colab": {}
      },
      "source": [
        "\n",
        "optimizer = torch.optim.Adam(net.parameters(), lr=1e-2)\n",
        "scheduler = torch.optim.lr_scheduler.StepLR(optimizer, step_size=step_size, gamma=1)\n",
        "hist10 = train(train_queue, valid_queue, net, loss_fn, optimizer,100,scheduler,save_flag=False)"
      ],
      "execution_count": null,
      "outputs": []
    },
    {
      "cell_type": "code",
      "metadata": {
        "id": "yFhdMuDuPexn",
        "colab_type": "code",
        "colab": {}
      },
      "source": [
        "net = Olga_Cell(D=2)\n",
        "# net\n",
        "net=net.to(\"cuda:0\")\n",
        "optimizer = torch.optim.Adam(net.parameters(), lr=1e-2)\n",
        "scheduler = torch.optim.lr_scheduler.StepLR(optimizer, step_size=step_size, gamma=1)\n",
        "hist11 = train(train_queue, valid_queue, net, loss_fn, optimizer,120,scheduler,save_flag=False)"
      ],
      "execution_count": null,
      "outputs": []
    },
    {
      "cell_type": "code",
      "metadata": {
        "id": "YGG7Xq4cWByb",
        "colab_type": "code",
        "colab": {}
      },
      "source": [
        "class Olga_Cell1(nn.Module):\n",
        "    def __init__(self,M=15,D=2,Poly_order=2,Passthrough=True):\n",
        "        super(Olga_Cell1,self).__init__()\n",
        "        self.f1=AFIR(M,0)\n",
        "        self.f3=AFIR(M,0)\n",
        "        self.delay=Delay(D)\n",
        "        self.pol_big=Polynomial(10,Passthrough)\n",
        "        self.prod=Prod_cmp()\n",
        " \n",
        "    def forward(self,x):\n",
        "        #source = x.clone()\n",
        "        up=self.delay(x)\n",
        "        up=self.f1(up)  \n",
        "        low = self.pol_big(x)\n",
        "        low = self.prod(low, x)\n",
        "        low = self.f3(low)\n",
        "        return up+low"
      ],
      "execution_count": null,
      "outputs": []
    },
    {
      "cell_type": "code",
      "metadata": {
        "id": "HTwqc5rPXX_j",
        "colab_type": "code",
        "colab": {}
      },
      "source": [
        "class Cell_upd(nn.Module):\n",
        "    def __init__(self,M=15,D=0,Poly_order=10,Passthrough=False):\n",
        "        super(Cell_upd,self).__init__()\n",
        "        self.f1=AFIR(M,0)\n",
        "        self.f2=AFIR(M,0)\n",
        "        self.delay=Delay(D)\n",
        "        self.pol=Polynomial(Poly_order,True) # было Passthrough\n",
        "        self.prod=Prod_cmp()\n",
        "    def forward(self,x):\n",
        "        x=self.delay(x)\n",
        "        up=self.f1(x) \n",
        "        return self.prod(up,self.f2(self.pol(x)))"
      ],
      "execution_count": null,
      "outputs": []
    },
    {
      "cell_type": "code",
      "metadata": {
        "id": "7RvpuchXWZ7Z",
        "colab_type": "code",
        "colab": {}
      },
      "source": [
        "net = Olga_Cell1()\n",
        "# net\n",
        "net=net.to(\"cuda:0\")\n",
        "optimizer = torch.optim.Adam(net.parameters(), lr=1e-2)\n",
        "scheduler = torch.optim.lr_scheduler.StepLR(optimizer, step_size=step_size, gamma=1)\n",
        "hist12 = train(train_queue, valid_queue, net, loss_fn, optimizer,120,scheduler,save_flag=False)"
      ],
      "execution_count": null,
      "outputs": []
    },
    {
      "cell_type": "code",
      "metadata": {
        "id": "r5Pbhv4uOCAX",
        "colab_type": "code",
        "colab": {}
      },
      "source": [
        "def Comparison_Olga_cells(hist1, hist2):\n",
        "    fig, ax = plt.subplots()\n",
        "    ax.plot(hist1['iter'], hist1['train_loss_db'], label='Olga_v0')\n",
        "    ax.plot(hist2['iter'], hist2['train_loss_db'], label='Olga_v1')\n",
        "    ax.set_xlabel('iter')\n",
        "    ax.set_ylabel('accuracy, dbs')\n",
        "    plt.title('Comparison of two types of new cells: iter')\n",
        "    ax.legend()\n",
        "    plt.show()\n",
        "\n",
        "    fig, ax = plt.subplots()\n",
        "    ax.plot(hist1['time'], hist1['train_loss_db'], label='Olga_v0')\n",
        "    ax.plot(hist2['time'], hist2['train_loss_db'], label='Olga_v1')\n",
        "    ax.set_xlabel('time')\n",
        "    ax.set_ylabel('accuracy, dbs')\n",
        "    plt.title('Comparison of two types of new cells: time')\n",
        "    ax.legend()\n",
        "    plt.show()"
      ],
      "execution_count": null,
      "outputs": []
    },
    {
      "cell_type": "code",
      "metadata": {
        "id": "MZ1JKZPvPDXx",
        "colab_type": "code",
        "colab": {}
      },
      "source": [
        "Comparison_Olga_cells(hist11, hist12)"
      ],
      "execution_count": null,
      "outputs": []
    },
    {
      "cell_type": "code",
      "metadata": {
        "id": "A-eA_3ZhYC5v",
        "colab_type": "code",
        "colab": {}
      },
      "source": [
        "net = Cell_upd()\n",
        "# net\n",
        "net=net.to(\"cuda:0\")\n",
        "optimizer = torch.optim.Adam(net.parameters(), lr=1e-2)\n",
        "scheduler = torch.optim.lr_scheduler.StepLR(optimizer, step_size=step_size, gamma=1)\n",
        "hist13 = train(train_queue, valid_queue, net, loss_fn, optimizer,120,scheduler,save_flag=False)"
      ],
      "execution_count": null,
      "outputs": []
    },
    {
      "cell_type": "code",
      "metadata": {
        "id": "pC8FU0OvYXLl",
        "colab_type": "code",
        "colab": {}
      },
      "source": [
        "Comparison_best_res(hist11, hist12, hist13)"
      ],
      "execution_count": null,
      "outputs": []
    },
    {
      "cell_type": "code",
      "metadata": {
        "id": "bi3AnytzesHR",
        "colab_type": "code",
        "colab": {}
      },
      "source": [
        "class Cell_upd2(nn.Module):\n",
        "    def __init__(self,M=15,D=0,Poly_order=10,Passthrough=True):\n",
        "        super(Cell_upd2,self).__init__()\n",
        "        self.f1=AFIR(M,0)\n",
        "        self.f2=AFIR(M,0)\n",
        "        self.delay=Delay(D)\n",
        "        self.pol=Polynomial(Poly_order,True) # было Passthrough\n",
        "        self.prod=Prod_cmp()\n",
        "    def forward(self,x):\n",
        "        source = x.clone()\n",
        "        x=self.delay(x)\n",
        "        up=self.f1(x) \n",
        "        return up+self.f2(self.prod(self.pol(x), x))\n",
        "        #return self.prod(up,self.f2(self.pol(x))+x)"
      ],
      "execution_count": null,
      "outputs": []
    },
    {
      "cell_type": "code",
      "metadata": {
        "id": "bc_SFjl4eniP",
        "colab_type": "code",
        "colab": {}
      },
      "source": [
        "net = Cell_upd2()\n",
        "# net\n",
        "net=net.to(\"cuda:0\")\n",
        "optimizer = torch.optim.Adam(net.parameters(), lr=1e-2)\n",
        "scheduler = torch.optim.lr_scheduler.StepLR(optimizer, step_size=step_size, gamma=1)\n",
        "hist14 = train(train_queue, valid_queue, net, loss_fn, optimizer,120,scheduler,save_flag=False)"
      ],
      "execution_count": null,
      "outputs": []
    },
    {
      "cell_type": "markdown",
      "metadata": {
        "id": "6pXMh7iuubqv",
        "colab_type": "text"
      },
      "source": [
        "Сравнение с клеткой Masl(сложение ветвей)"
      ]
    },
    {
      "cell_type": "code",
      "metadata": {
        "id": "5_wuZClOd2xb",
        "colab_type": "code",
        "colab": {}
      },
      "source": [
        "Comparison_best_res(hist12, hist13, hist14)"
      ],
      "execution_count": null,
      "outputs": []
    },
    {
      "cell_type": "code",
      "metadata": {
        "id": "5PI6yvtqjAo-",
        "colab_type": "code",
        "colab": {}
      },
      "source": [
        "class Cell_upd3(nn.Module):\n",
        "    def __init__(self,M=15,D=0,Poly_order=10,Passthrough=True):\n",
        "        super(Cell_upd3,self).__init__()\n",
        "        self.f1=AFIR(M,0)\n",
        "        self.f2=AFIR(M,0)\n",
        "        self.delay=Delay(D)\n",
        "        self.pol=Polynomial(Poly_order,True) # было Passthrough\n",
        "        self.prod=Prod_cmp()\n",
        "    def forward(self,x):\n",
        "        source = x.clone()\n",
        "        x=self.delay(x)\n",
        "        up=self.f1(x) \n",
        "        return up+self.prod(self.pol(x), x)\n",
        "        #return self.prod(up,self.f2(self.pol(x))+x)"
      ],
      "execution_count": null,
      "outputs": []
    },
    {
      "cell_type": "code",
      "metadata": {
        "id": "2k094jxVjEW_",
        "colab_type": "code",
        "colab": {}
      },
      "source": [
        "net = Cell_upd3()\n",
        "# net\n",
        "net=net.to(\"cuda:0\")\n",
        "optimizer = torch.optim.Adam(net.parameters(), lr=1e-2)\n",
        "scheduler = torch.optim.lr_scheduler.StepLR(optimizer, step_size=step_size, gamma=1)\n",
        "hist14 = train(train_queue, valid_queue, net, loss_fn, optimizer,120,scheduler,save_flag=False)"
      ],
      "execution_count": null,
      "outputs": []
    },
    {
      "cell_type": "markdown",
      "metadata": {
        "id": "EIMOS2q-uADN",
        "colab_type": "text"
      },
      "source": [
        "Сравнение с клеткой Masl без FIR"
      ]
    },
    {
      "cell_type": "code",
      "metadata": {
        "id": "-2HPs46wjKUE",
        "colab_type": "code",
        "colab": {}
      },
      "source": [
        "Comparison_best_res(hist12, hist13, hist14)"
      ],
      "execution_count": null,
      "outputs": []
    },
    {
      "cell_type": "code",
      "metadata": {
        "id": "KUAz_QRpj1On",
        "colab_type": "code",
        "colab": {
          "base_uri": "https://localhost:8080/",
          "height": 522
        },
        "outputId": "3a424f9a-4640-4a5a-c130-ba344a07a3c6"
      },
      "source": [
        "!pip3 uninstall torch\n",
        "!pip3 install torch==1.4.0 torchvision==0.5.0 -f https://download.pytorch.org/whl/torch_stable.html"
      ],
      "execution_count": 28,
      "outputs": [
        {
          "output_type": "stream",
          "text": [
            "Uninstalling torch-1.6.0+cu101:\n",
            "  Would remove:\n",
            "    /usr/local/bin/convert-caffe2-to-onnx\n",
            "    /usr/local/bin/convert-onnx-to-caffe2\n",
            "    /usr/local/lib/python3.6/dist-packages/caffe2/*\n",
            "    /usr/local/lib/python3.6/dist-packages/torch-1.6.0+cu101.dist-info/*\n",
            "    /usr/local/lib/python3.6/dist-packages/torch/*\n",
            "Proceed (y/n)? y\n",
            "y\n",
            "  Successfully uninstalled torch-1.6.0+cu101\n",
            "Looking in links: https://download.pytorch.org/whl/torch_stable.html\n",
            "Collecting torch==1.4.0\n",
            "\u001b[?25l  Downloading https://download.pytorch.org/whl/cu92/torch-1.4.0%2Bcu92-cp36-cp36m-linux_x86_64.whl (640.5MB)\n",
            "\u001b[K     |████████████████████████████████| 640.6MB 28kB/s \n",
            "\u001b[?25hCollecting torchvision==0.5.0\n",
            "\u001b[?25l  Downloading https://download.pytorch.org/whl/cu92/torchvision-0.5.0%2Bcu92-cp36-cp36m-linux_x86_64.whl (3.9MB)\n",
            "\u001b[K     |████████████████████████████████| 4.0MB 39.0MB/s \n",
            "\u001b[?25hRequirement already satisfied: pillow>=4.1.1 in /usr/local/lib/python3.6/dist-packages (from torchvision==0.5.0) (7.0.0)\n",
            "Requirement already satisfied: numpy in /usr/local/lib/python3.6/dist-packages (from torchvision==0.5.0) (1.18.5)\n",
            "Requirement already satisfied: six in /usr/local/lib/python3.6/dist-packages (from torchvision==0.5.0) (1.15.0)\n",
            "Installing collected packages: torch, torchvision\n",
            "  Found existing installation: torchvision 0.7.0+cu101\n",
            "    Uninstalling torchvision-0.7.0+cu101:\n",
            "      Successfully uninstalled torchvision-0.7.0+cu101\n",
            "Successfully installed torch-1.4.0+cu92 torchvision-0.5.0+cu92\n"
          ],
          "name": "stdout"
        },
        {
          "output_type": "display_data",
          "data": {
            "application/vnd.colab-display-data+json": {
              "pip_warning": {
                "packages": [
                  "torch",
                  "torchvision"
                ]
              }
            }
          },
          "metadata": {
            "tags": []
          }
        }
      ]
    },
    {
      "cell_type": "code",
      "metadata": {
        "id": "GWs8JxNl2BMI",
        "colab_type": "code",
        "colab": {}
      },
      "source": [
        "#net=layer([0,1,2,3,4],5)\n",
        "# net = LowModel(3,5,[[0,1,2,3,4],[5,6,7,8,9],[4,3,2,1,10]])\n",
        "\n",
        "# net=Cell()\n",
        "#net=net.to(\"cuda:0\")\n",
        "transforms = [\n",
        "# AFIR_CMPX\n",
        "  ht.Fold(\"(Constant > Gather) \", 'CG', 'CG'),  \n",
        "  ht.Fold(\"(Constant > Reshape)\", 'CR', 'CR'),     \n",
        "  ht.Fold('CG > CR', 'CG_CR', 'CG_CR'),\n",
        "  ht.Fold('Shape > CG', 'S_CG', 'S_CG'),\n",
        "  ht.Fold('CG_CR > Conv', 'CG_CR_Conv', 'CG_CR_Conv'),\n",
        "  ht.Fold('CG_CR_Conv > Add', 'CG_CR_Conv_Add0', 'CG_CR_Conv_Add0'),\n",
        "  ht.Fold('CG_CR_Conv > CG_CR_Conv_Add0', 'CG_CR_Conv_Add', 'CG_CR_Conv_Add'),\n",
        "  ht.Fold('CG_CR_Conv > Sub', 'CG_CR_Conv_Sub0', 'CG_CR_Conv_Sub0'),\n",
        "  ht.Fold('CG_CR_Conv > CG_CR_Conv_Sub0', 'CG_CR_Conv_Sub', 'CG_CR_Conv_Sub'),\n",
        "  ht.Fold('CG_CR_Conv_Sub > Concat', 'CR1', 'CR1'),\n",
        "  ht.Fold('CG_CR_Conv_Add > CR1', 'FIR', 'FIR'),\n",
        "  \n",
        "# Polynommial\n",
        "\n",
        "  ht.Fold('Shape > ConstantOfShape', 'Poly', 'Abs-Poly'),  \n",
        "# Prod_cmp\n",
        "  ht.Fold('CG_CR > Mul', 'Mul0', 'Mul0'),  \n",
        "  ht.Fold('CG_CR > Mul0', 'Mul', 'Mul'),\n",
        "  ht.Fold('Mul > Sub', 'Mul_s', 'Mul_s'),\n",
        "  ht.Fold('Mul > Mul_s', 'Mul_s', 'Mul_s'),\n",
        "  ht.Fold('Mul > Add', 'Mul_a', 'Mul_a'),\n",
        "  ht.Fold('Mul > Mul_a', 'Mul_a', 'Mul_a'),\n",
        "  ht.Fold('Mul_s > Concat', 'Mul_s_c', 'Mul_s_c'),\n",
        "  ht.Fold('Mul_a > Mul_s_c', 'Mul', 'Mul'),\n",
        "# Delay\n",
        "  ht.Fold('Constant > Unsqueeze', 'CU', 'CU'),\n",
        "  ht.Fold('S_CG > Unsqueeze', 'S_CG_U', 'S_CG_U'),\n",
        "  ht.Fold('CU > DynamicSlice', 'CU_DS', 'CU_DS'),\n",
        "  ht.Fold('S_CG_U > CU_DS', 'B1', 'B1'),\n",
        "  ht.Fold('CU > B1', 'B2', 'B2'),\n",
        "  ht.Fold('Pad > B2', 'Delay', 'Delay'),\n",
        "  # ht.Fold('> Pad', 'Inp', 'Inp'),\n",
        "  \n",
        "  # ht.Fold('CG_CR_Conv > B2', 'B3', 'B3'),\n",
        "  # ht.Fold('B3 > Add', 'B4', 'B4'),\n",
        "  # ht.Fold('B3 > Sub', 'B6', 'B6'),\n",
        "  # ht.Fold('B3 > B6', 'B7', 'B7'),\n",
        "  # ht.Fold('B3 > B4', 'B5', 'B5'),\n",
        "  # ht.Fold('B3 > B4', 'B5', 'B5'),\n",
        "  # ht.Fold('B7 > Concat', 'B8', 'B8'),\n",
        "  # ht.Fold('B5 > B8', 'B9', 'B9'),\n",
        "  # ht.Fold('B9 > CR', 'FIR', 'FIR'),    \n",
        "\n",
        "  \n",
        "\n",
        "#Sum\n",
        "  ht.Fold('Poly > Add', 'Add', 'Add'),\n",
        "  ht.Fold('Add > Add', 'Sum', 'Sum'),\n",
        "  ht.Fold('Sum > Add', 'Sum', 'Sum'),\n",
        "  ht.Fold('Add > Sum', 'Sum', 'Sum'),\n",
        "  ht.Fold('Add > Sum', 'Sum', 'Sum'),\n",
        "  ht.Fold('Sum > Sum', 'Sum', 'Sum'),\n",
        "\n",
        "\n",
        "\n",
        "]"
      ],
      "execution_count": 26,
      "outputs": []
    },
    {
      "cell_type": "code",
      "metadata": {
        "id": "6R-NHK0TBNz3",
        "colab_type": "code",
        "colab": {}
      },
      "source": [
        ""
      ],
      "execution_count": null,
      "outputs": []
    }
  ]
}